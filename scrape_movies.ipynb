{
 "cells": [
  {
   "cell_type": "code",
   "execution_count": 75,
   "id": "6ed92244-ea1a-4ecd-90c4-64c695eca78e",
   "metadata": {},
   "outputs": [],
   "source": [
    "# Importing the necessary libraries\n",
    "\n",
    "# Selenium is used for automating web browser interaction\n",
    "import selenium\n",
    "from selenium import webdriver\n",
    "from selenium.webdriver.common.by import By\n",
    "\n",
    "# BeautifulSoup for extracting data\n",
    "import bs4\n",
    "from bs4 import BeautifulSoup\n",
    "\n",
    "# Used for making HTTP request to web page\n",
    "import requests\n",
    "\n",
    "# time is used to add delays\n",
    "import time\n",
    "\n",
    "import pandas as pd #importing pandas"
   ]
  },
  {
   "cell_type": "code",
   "execution_count": 77,
   "id": "e228d445-3c08-4394-9f51-ea8b93e6f77b",
   "metadata": {},
   "outputs": [
    {
     "name": "stdout",
     "output_type": "stream",
     "text": [
      "pandas version: 2.2.2\n",
      "selenium version: 4.31.0\n",
      "requests version: 2.32.3\n",
      "beautifulsoup4 version: 4.12.3\n"
     ]
    }
   ],
   "source": [
    "print(\"pandas version:\", pd.__version__)\n",
    "print(\"selenium version:\", selenium.__version__)\n",
    "print(\"requests version:\", requests.__version__)\n",
    "print(\"beautifulsoup4 version:\", bs4.__version__)"
   ]
  },
  {
   "cell_type": "code",
   "execution_count": 3,
   "id": "f6bfaba9-5b51-41a7-9659-3b5ac9070ee6",
   "metadata": {},
   "outputs": [],
   "source": [
    "# Launching new Chrome Browser\n",
    "driver = webdriver.Chrome()"
   ]
  },
  {
   "cell_type": "code",
   "execution_count": 5,
   "id": "f0511ed2-d13c-41b1-aadb-c1cd72bc1e59",
   "metadata": {},
   "outputs": [],
   "source": [
    "# Navigating to the IMDb page that lists Nepali films\n",
    "driver.get('https://www.imdb.com/search/title/?primary_language=ne&title_type=feature')\n",
    "\n",
    "#Maximizing the browser window\n",
    "driver.maximize_window()"
   ]
  },
  {
   "cell_type": "code",
   "execution_count": 7,
   "id": "6b021170-91d8-463b-bd9a-b62115c5cdf7",
   "metadata": {},
   "outputs": [],
   "source": [
    "for i in range(1):  # put the range value based on the number of pages in imdb\n",
    "    driver.execute_script(\"window.scrollTo(0, document.body.scrollHeight);\")     # Scroll to the bottom of the page\n",
    "    time.sleep(2)\n",
    "    driver.execute_script(\"window.scrollBy(0,-300);\")    # Scroll slightly up to make sure the \"Load More\" button is in view\n",
    "    time.sleep(1)\n",
    "    try:\n",
    "        # click the \"Load More\" button using its XPath\n",
    "        driver.find_element(By.XPATH, value='//*[@id=\"__next\"]/main/div[2]/div[3]/section/section/div/section/section/div[2]/div/section/div[2]/div[2]/div[2]/div/span/button').click()\n",
    "        time.sleep(3)\n",
    "    except:\n",
    "        break                #If the button is not found break the loop"
   ]
  },
  {
   "cell_type": "code",
   "execution_count": 9,
   "id": "b4b4677f-f714-4b53-a450-671aeb5133b4",
   "metadata": {},
   "outputs": [],
   "source": [
    "html = driver.page_source   #Getting the full HTML source code"
   ]
  },
  {
   "cell_type": "code",
   "execution_count": 11,
   "id": "55071126-a59c-4ff4-a7eb-74f643b2e638",
   "metadata": {},
   "outputs": [],
   "source": [
    "soup = BeautifulSoup(html,'lxml')          # Parsing the HTML content with BeautifulSoup using the 'lxml' parser for easy extraction of data"
   ]
  },
  {
   "cell_type": "code",
   "execution_count": 13,
   "id": "6a0ca399-ea99-4a7a-a3f0-9c0db45cfdc4",
   "metadata": {},
   "outputs": [],
   "source": [
    "# Using BeautifulSoup to find all list items of class 'ipc-metadata-list-summary-item'\n",
    "list_items = soup.find_all('li',class_=\"ipc-metadata-list-summary-item\")"
   ]
  },
  {
   "cell_type": "code",
   "execution_count": 15,
   "id": "38a6d6cc-774a-4d03-9e37-e78b36c745e6",
   "metadata": {},
   "outputs": [],
   "source": [
    "href = []\n",
    "for i in list_items:\n",
    "    title = i.find('a',class_=\"ipc-title-link-wrapper\")    # Finding the anchor ('a') tag that contains the movie title link, using its class name\n",
    "\n",
    "    href.append(title.get('href'))         # Appending the urls to the href list"
   ]
  },
  {
   "cell_type": "code",
   "execution_count": 17,
   "id": "7f5ada1d-5b2d-4651-9b50-d2cecd102a75",
   "metadata": {},
   "outputs": [],
   "source": [
    "# Initializing empty lists to store specific movie information\n",
    "\n",
    "Director = []\n",
    "Stars = []\n",
    "Writer = []\n",
    "Writers = []\n",
    "Directors = []\n",
    "Release_date = []\n",
    "Title = []\n",
    "Summaries = []\n",
    "Star = []\n",
    "Genre = []\n",
    "Image = []\n",
    "list1 = {\n",
    "    'Director': Director,\n",
    "    'Directors': Directors,\n",
    "    'Writer' : Writer,\n",
    "    'Writers' : Writers,\n",
    "    'Stars' : Stars,\n",
    "    'Star': Star,\n",
    "    'Release_date': Release_date,\n",
    "    'Summaries': Summaries,\n",
    "    'Genre': Genre,\n",
    "    'Image':Image\n",
    "}"
   ]
  },
  {
   "cell_type": "code",
   "execution_count": 21,
   "id": "0e9fb2ca-9116-4e87-85da-275c19dcf109",
   "metadata": {},
   "outputs": [
    {
     "name": "stdout",
     "output_type": "stream",
     "text": [
      "https://www.imdb.com//title/tt28495418/?ref_=sr_t_1 has Stars issue 'NoneType' object has no attribute 'text'\n",
      "https://www.imdb.com//title/tt28495418/?ref_=sr_t_1 has Stars issue 'NoneType' object has no attribute 'text'\n",
      "https://www.imdb.com//title/tt28495418/?ref_=sr_t_1 has Director or Writer issue 'NoneType' object has no attribute 'text'\n",
      "https://www.imdb.com//title/tt31495279/?ref_=sr_t_2 has Stars issue 'NoneType' object has no attribute 'text'\n",
      "https://www.imdb.com//title/tt31495279/?ref_=sr_t_2 has Stars issue 'NoneType' object has no attribute 'text'\n",
      "https://www.imdb.com//title/tt31495279/?ref_=sr_t_2 has Director or Writer issue 'NoneType' object has no attribute 'text'\n",
      "https://www.imdb.com//title/tt32332133/?ref_=sr_t_3 has Stars issue 'NoneType' object has no attribute 'text'\n",
      "https://www.imdb.com//title/tt32332133/?ref_=sr_t_3 has Stars issue 'NoneType' object has no attribute 'text'\n",
      "https://www.imdb.com//title/tt32332133/?ref_=sr_t_3 has Director or Writer issue 'NoneType' object has no attribute 'text'\n",
      "Less than 3\n",
      "https://www.imdb.com//title/tt3746250/?ref_=sr_t_5 has Stars issue 'NoneType' object has no attribute 'text'\n",
      "https://www.imdb.com//title/tt3746250/?ref_=sr_t_5 has Stars issue 'NoneType' object has no attribute 'text'\n",
      "https://www.imdb.com//title/tt3746250/?ref_=sr_t_5 has Director or Writer issue 'NoneType' object has no attribute 'text'\n",
      "https://www.imdb.com//title/tt34498407/?ref_=sr_t_6 has Stars issue 'NoneType' object has no attribute 'text'\n",
      "https://www.imdb.com//title/tt34498407/?ref_=sr_t_6 has Stars issue 'NoneType' object has no attribute 'text'\n",
      "https://www.imdb.com//title/tt34498407/?ref_=sr_t_6 has Director or Writer issue 'NoneType' object has no attribute 'text'\n",
      "https://www.imdb.com//title/tt8622286/?ref_=sr_t_7 has Stars issue 'NoneType' object has no attribute 'text'\n",
      "https://www.imdb.com//title/tt8622286/?ref_=sr_t_7 has Director or Writer issue 'NoneType' object has no attribute 'text'\n",
      "https://www.imdb.com//title/tt8622286/?ref_=sr_t_7 has Director or Writer issue 'NoneType' object has no attribute 'text'\n",
      "https://www.imdb.com//title/tt31433228/?ref_=sr_t_8 has Stars issue 'NoneType' object has no attribute 'text'\n",
      "https://www.imdb.com//title/tt31433228/?ref_=sr_t_8 has Stars issue 'NoneType' object has no attribute 'text'\n",
      "https://www.imdb.com//title/tt31433228/?ref_=sr_t_8 has Director or Writer issue 'NoneType' object has no attribute 'text'\n",
      "https://www.imdb.com//title/tt27794666/?ref_=sr_t_9 has Stars issue 'NoneType' object has no attribute 'text'\n",
      "https://www.imdb.com//title/tt27794666/?ref_=sr_t_9 has Director or Writer issue 'NoneType' object has no attribute 'text'\n",
      "https://www.imdb.com//title/tt27794666/?ref_=sr_t_9 has Director or Writer issue 'NoneType' object has no attribute 'text'\n",
      "https://www.imdb.com//title/tt27794666/?ref_=sr_t_9 has Date or Title issue 'NoneType' object has no attribute 'text'\n",
      "https://www.imdb.com//title/tt1999130/?ref_=sr_t_10 has Stars issue 'NoneType' object has no attribute 'text'\n",
      "https://www.imdb.com//title/tt1999130/?ref_=sr_t_10 has Stars issue 'NoneType' object has no attribute 'text'\n",
      "https://www.imdb.com//title/tt1999130/?ref_=sr_t_10 has Director or Writer issue 'NoneType' object has no attribute 'text'\n",
      "https://www.imdb.com//title/tt33030379/?ref_=sr_t_11 has Stars issue 'NoneType' object has no attribute 'text'\n",
      "https://www.imdb.com//title/tt33030379/?ref_=sr_t_11 has Stars issue 'NoneType' object has no attribute 'text'\n",
      "https://www.imdb.com//title/tt33030379/?ref_=sr_t_11 has Director or Writer issue 'NoneType' object has no attribute 'text'\n",
      "https://www.imdb.com//title/tt29005176/?ref_=sr_t_12 has Stars issue 'NoneType' object has no attribute 'text'\n",
      "https://www.imdb.com//title/tt29005176/?ref_=sr_t_12 has Stars issue 'NoneType' object has no attribute 'text'\n",
      "https://www.imdb.com//title/tt29005176/?ref_=sr_t_12 has Director or Writer issue 'NoneType' object has no attribute 'text'\n",
      "https://www.imdb.com//title/tt21249176/?ref_=sr_t_13 has Stars issue 'NoneType' object has no attribute 'text'\n",
      "https://www.imdb.com//title/tt21249176/?ref_=sr_t_13 has Stars issue 'NoneType' object has no attribute 'text'\n",
      "https://www.imdb.com//title/tt21249176/?ref_=sr_t_13 has Director or Writer issue 'NoneType' object has no attribute 'text'\n",
      "https://www.imdb.com//title/tt33655825/?ref_=sr_t_14 has Stars issue 'NoneType' object has no attribute 'text'\n",
      "https://www.imdb.com//title/tt33655825/?ref_=sr_t_14 has Stars issue 'NoneType' object has no attribute 'text'\n",
      "https://www.imdb.com//title/tt33655825/?ref_=sr_t_14 has Director or Writer issue 'NoneType' object has no attribute 'text'\n",
      "https://www.imdb.com//title/tt21741272/?ref_=sr_t_15 has Stars issue 'NoneType' object has no attribute 'text'\n",
      "https://www.imdb.com//title/tt21741272/?ref_=sr_t_15 has Stars issue 'NoneType' object has no attribute 'text'\n",
      "https://www.imdb.com//title/tt21741272/?ref_=sr_t_15 has Director or Writer issue 'NoneType' object has no attribute 'text'\n",
      "https://www.imdb.com//title/tt29481471/?ref_=sr_t_16 has Stars issue 'NoneType' object has no attribute 'text'\n",
      "https://www.imdb.com//title/tt29481471/?ref_=sr_t_16 has Stars issue 'NoneType' object has no attribute 'text'\n",
      "https://www.imdb.com//title/tt29481471/?ref_=sr_t_16 has Director or Writer issue 'NoneType' object has no attribute 'text'\n",
      "https://www.imdb.com//title/tt3638644/?ref_=sr_t_17 has Stars issue 'NoneType' object has no attribute 'text'\n",
      "https://www.imdb.com//title/tt3638644/?ref_=sr_t_17 has Stars issue 'NoneType' object has no attribute 'text'\n",
      "https://www.imdb.com//title/tt3638644/?ref_=sr_t_17 has Director or Writer issue 'NoneType' object has no attribute 'text'\n",
      "https://www.imdb.com//title/tt3700482/?ref_=sr_t_18 has Stars issue 'NoneType' object has no attribute 'text'\n",
      "https://www.imdb.com//title/tt3700482/?ref_=sr_t_18 has Stars issue 'NoneType' object has no attribute 'text'\n",
      "https://www.imdb.com//title/tt3700482/?ref_=sr_t_18 has Director or Writer issue 'NoneType' object has no attribute 'text'\n",
      "https://www.imdb.com//title/tt27513017/?ref_=sr_t_19 has Stars issue 'NoneType' object has no attribute 'text'\n",
      "https://www.imdb.com//title/tt27513017/?ref_=sr_t_19 has Stars issue 'NoneType' object has no attribute 'text'\n",
      "https://www.imdb.com//title/tt27513017/?ref_=sr_t_19 has Director or Writer issue 'NoneType' object has no attribute 'text'\n",
      "https://www.imdb.com//title/tt9296106/?ref_=sr_t_20 has Stars issue 'NoneType' object has no attribute 'text'\n",
      "https://www.imdb.com//title/tt9296106/?ref_=sr_t_20 has Director or Writer issue 'NoneType' object has no attribute 'text'\n",
      "https://www.imdb.com//title/tt9296106/?ref_=sr_t_20 has Director or Writer issue 'NoneType' object has no attribute 'text'\n",
      "https://www.imdb.com//title/tt33051733/?ref_=sr_t_21 has Stars issue 'NoneType' object has no attribute 'text'\n",
      "https://www.imdb.com//title/tt33051733/?ref_=sr_t_21 has Stars issue 'NoneType' object has no attribute 'text'\n",
      "https://www.imdb.com//title/tt33051733/?ref_=sr_t_21 has Director or Writer issue 'NoneType' object has no attribute 'text'\n",
      "https://www.imdb.com//title/tt30497217/?ref_=sr_t_22 has Stars issue 'NoneType' object has no attribute 'text'\n",
      "https://www.imdb.com//title/tt30497217/?ref_=sr_t_22 has Stars issue 'NoneType' object has no attribute 'text'\n",
      "https://www.imdb.com//title/tt30497217/?ref_=sr_t_22 has Director or Writer issue 'NoneType' object has no attribute 'text'\n",
      "https://www.imdb.com//title/tt33354254/?ref_=sr_t_23 has Stars issue 'NoneType' object has no attribute 'text'\n",
      "https://www.imdb.com//title/tt33354254/?ref_=sr_t_23 has Stars issue 'NoneType' object has no attribute 'text'\n",
      "https://www.imdb.com//title/tt33354254/?ref_=sr_t_23 has Director or Writer issue 'NoneType' object has no attribute 'text'\n",
      "https://www.imdb.com//title/tt8761830/?ref_=sr_t_24 has Stars issue 'NoneType' object has no attribute 'text'\n",
      "https://www.imdb.com//title/tt8761830/?ref_=sr_t_24 has Stars issue 'NoneType' object has no attribute 'text'\n",
      "https://www.imdb.com//title/tt8761830/?ref_=sr_t_24 has Director or Writer issue 'NoneType' object has no attribute 'text'\n",
      "https://www.imdb.com//title/tt8761830/?ref_=sr_t_24 has Summary issue 'NoneType' object has no attribute 'text'\n",
      "Less than 3\n",
      "https://www.imdb.com//title/tt33829913/?ref_=sr_t_26 has Stars issue 'NoneType' object has no attribute 'text'\n",
      "https://www.imdb.com//title/tt33829913/?ref_=sr_t_26 has Stars issue 'NoneType' object has no attribute 'text'\n",
      "https://www.imdb.com//title/tt33829913/?ref_=sr_t_26 has Director or Writer issue 'NoneType' object has no attribute 'text'\n",
      "https://www.imdb.com//title/tt33829913/?ref_=sr_t_26 has Summary issue 'NoneType' object has no attribute 'text'\n",
      "https://www.imdb.com//title/tt12320684/?ref_=sr_t_27 has Stars issue 'NoneType' object has no attribute 'text'\n",
      "https://www.imdb.com//title/tt12320684/?ref_=sr_t_27 has Stars issue 'NoneType' object has no attribute 'text'\n",
      "https://www.imdb.com//title/tt12320684/?ref_=sr_t_27 has Director or Writer issue 'NoneType' object has no attribute 'text'\n",
      "https://www.imdb.com//title/tt27618765/?ref_=sr_t_28 has Stars issue 'NoneType' object has no attribute 'text'\n",
      "https://www.imdb.com//title/tt27618765/?ref_=sr_t_28 has Stars issue 'NoneType' object has no attribute 'text'\n",
      "https://www.imdb.com//title/tt27618765/?ref_=sr_t_28 has Director or Writer issue 'NoneType' object has no attribute 'text'\n",
      "https://www.imdb.com//title/tt32400671/?ref_=sr_t_29 has Stars issue 'NoneType' object has no attribute 'text'\n",
      "https://www.imdb.com//title/tt32400671/?ref_=sr_t_29 has Stars issue 'NoneType' object has no attribute 'text'\n",
      "https://www.imdb.com//title/tt32400671/?ref_=sr_t_29 has Director or Writer issue 'NoneType' object has no attribute 'text'\n",
      "https://www.imdb.com//title/tt32400671/?ref_=sr_t_29 has Date or Title issue 'NoneType' object has no attribute 'text'\n",
      "https://www.imdb.com//title/tt3696800/?ref_=sr_t_30 has Stars issue 'NoneType' object has no attribute 'text'\n",
      "https://www.imdb.com//title/tt3696800/?ref_=sr_t_30 has Stars issue 'NoneType' object has no attribute 'text'\n",
      "https://www.imdb.com//title/tt3696800/?ref_=sr_t_30 has Director or Writer issue 'NoneType' object has no attribute 'text'\n",
      "https://www.imdb.com//title/tt0304435/?ref_=sr_t_31 has Stars issue 'NoneType' object has no attribute 'text'\n",
      "https://www.imdb.com//title/tt0304435/?ref_=sr_t_31 has Stars issue 'NoneType' object has no attribute 'text'\n",
      "https://www.imdb.com//title/tt0304435/?ref_=sr_t_31 has Director or Writer issue 'NoneType' object has no attribute 'text'\n",
      "https://www.imdb.com//title/tt35921050/?ref_=sr_t_32 has Stars issue 'NoneType' object has no attribute 'text'\n",
      "https://www.imdb.com//title/tt35921050/?ref_=sr_t_32 has Stars issue 'NoneType' object has no attribute 'text'\n",
      "https://www.imdb.com//title/tt35921050/?ref_=sr_t_32 has Stars issue 'NoneType' object has no attribute 'text'\n",
      "https://www.imdb.com//title/tt32316970/?ref_=sr_t_33 has Stars issue 'NoneType' object has no attribute 'text'\n",
      "https://www.imdb.com//title/tt32316970/?ref_=sr_t_33 has Stars issue 'NoneType' object has no attribute 'text'\n",
      "https://www.imdb.com//title/tt32316970/?ref_=sr_t_33 has Director or Writer issue 'NoneType' object has no attribute 'text'\n",
      "https://www.imdb.com//title/tt32316970/?ref_=sr_t_33 has Date or Title issue 'NoneType' object has no attribute 'text'\n",
      "https://www.imdb.com//title/tt32316970/?ref_=sr_t_33 has Summary issue 'NoneType' object has no attribute 'text'\n",
      "https://www.imdb.com//title/tt29100768/?ref_=sr_t_34 has Stars issue 'NoneType' object has no attribute 'text'\n",
      "https://www.imdb.com//title/tt29100768/?ref_=sr_t_34 has Stars issue 'NoneType' object has no attribute 'text'\n",
      "https://www.imdb.com//title/tt29100768/?ref_=sr_t_34 has Director or Writer issue 'NoneType' object has no attribute 'text'\n",
      "Less than 3\n",
      "https://www.imdb.com//title/tt2179133/?ref_=sr_t_36 has Stars issue 'NoneType' object has no attribute 'text'\n",
      "https://www.imdb.com//title/tt2179133/?ref_=sr_t_36 has Stars issue 'NoneType' object has no attribute 'text'\n",
      "https://www.imdb.com//title/tt2179133/?ref_=sr_t_36 has Director or Writer issue 'NoneType' object has no attribute 'text'\n",
      "https://www.imdb.com//title/tt4991660/?ref_=sr_t_37 has Stars issue 'NoneType' object has no attribute 'text'\n",
      "https://www.imdb.com//title/tt4991660/?ref_=sr_t_37 has Stars issue 'NoneType' object has no attribute 'text'\n",
      "https://www.imdb.com//title/tt4991660/?ref_=sr_t_37 has Director or Writer issue 'NoneType' object has no attribute 'text'\n",
      "https://www.imdb.com//title/tt32873236/?ref_=sr_t_38 has Stars issue 'NoneType' object has no attribute 'text'\n",
      "https://www.imdb.com//title/tt32873236/?ref_=sr_t_38 has Stars issue 'NoneType' object has no attribute 'text'\n",
      "https://www.imdb.com//title/tt32873236/?ref_=sr_t_38 has Director or Writer issue 'NoneType' object has no attribute 'text'\n",
      "https://www.imdb.com//title/tt5691226/?ref_=sr_t_39 has Stars issue 'NoneType' object has no attribute 'text'\n",
      "https://www.imdb.com//title/tt5691226/?ref_=sr_t_39 has Stars issue 'NoneType' object has no attribute 'text'\n",
      "https://www.imdb.com//title/tt5691226/?ref_=sr_t_39 has Director or Writer issue 'NoneType' object has no attribute 'text'\n",
      "https://www.imdb.com//title/tt10240904/?ref_=sr_t_40 has Stars issue 'NoneType' object has no attribute 'text'\n",
      "https://www.imdb.com//title/tt10240904/?ref_=sr_t_40 has Stars issue 'NoneType' object has no attribute 'text'\n",
      "https://www.imdb.com//title/tt10240904/?ref_=sr_t_40 has Director or Writer issue 'NoneType' object has no attribute 'text'\n",
      "https://www.imdb.com//title/tt10240904/?ref_=sr_t_40 has Summary issue 'NoneType' object has no attribute 'text'\n",
      "https://www.imdb.com//title/tt31614071/?ref_=sr_t_41 has Stars issue 'NoneType' object has no attribute 'text'\n",
      "https://www.imdb.com//title/tt31614071/?ref_=sr_t_41 has Stars issue 'NoneType' object has no attribute 'text'\n",
      "https://www.imdb.com//title/tt31614071/?ref_=sr_t_41 has Director or Writer issue 'NoneType' object has no attribute 'text'\n",
      "https://www.imdb.com//title/tt31614071/?ref_=sr_t_41 has Date or Title issue 'NoneType' object has no attribute 'text'\n",
      "https://www.imdb.com//title/tt31707196/?ref_=sr_t_42 has Stars issue 'NoneType' object has no attribute 'text'\n",
      "https://www.imdb.com//title/tt31707196/?ref_=sr_t_42 has Stars issue 'NoneType' object has no attribute 'text'\n",
      "https://www.imdb.com//title/tt31707196/?ref_=sr_t_42 has Director or Writer issue 'NoneType' object has no attribute 'text'\n",
      "https://www.imdb.com//title/tt31034190/?ref_=sr_t_43 has Stars issue 'NoneType' object has no attribute 'text'\n",
      "https://www.imdb.com//title/tt31034190/?ref_=sr_t_43 has Stars issue 'NoneType' object has no attribute 'text'\n",
      "https://www.imdb.com//title/tt31034190/?ref_=sr_t_43 has Stars issue 'NoneType' object has no attribute 'text'\n",
      "https://www.imdb.com//title/tt32031932/?ref_=sr_t_44 has Stars issue 'NoneType' object has no attribute 'text'\n",
      "https://www.imdb.com//title/tt32031932/?ref_=sr_t_44 has Stars issue 'NoneType' object has no attribute 'text'\n",
      "https://www.imdb.com//title/tt32031932/?ref_=sr_t_44 has Director or Writer issue 'NoneType' object has no attribute 'text'\n",
      "Less than 3\n",
      "https://www.imdb.com//title/tt6501192/?ref_=sr_t_46 has Stars issue 'NoneType' object has no attribute 'text'\n",
      "https://www.imdb.com//title/tt6501192/?ref_=sr_t_46 has Stars issue 'NoneType' object has no attribute 'text'\n",
      "https://www.imdb.com//title/tt6501192/?ref_=sr_t_46 has Director or Writer issue 'NoneType' object has no attribute 'text'\n",
      "https://www.imdb.com//title/tt8374202/?ref_=sr_t_47 has Stars issue 'NoneType' object has no attribute 'text'\n",
      "https://www.imdb.com//title/tt8374202/?ref_=sr_t_47 has Stars issue 'NoneType' object has no attribute 'text'\n",
      "https://www.imdb.com//title/tt8374202/?ref_=sr_t_47 has Director or Writer issue 'NoneType' object has no attribute 'text'\n",
      "https://www.imdb.com//title/tt8374202/?ref_=sr_t_47 has Summary issue 'NoneType' object has no attribute 'text'\n",
      "https://www.imdb.com//title/tt16529002/?ref_=sr_t_48 has Stars issue 'NoneType' object has no attribute 'text'\n",
      "https://www.imdb.com//title/tt16529002/?ref_=sr_t_48 has Stars issue 'NoneType' object has no attribute 'text'\n",
      "https://www.imdb.com//title/tt16529002/?ref_=sr_t_48 has Director or Writer issue 'NoneType' object has no attribute 'text'\n",
      "https://www.imdb.com//title/tt31835725/?ref_=sr_t_49 has Stars issue 'NoneType' object has no attribute 'text'\n",
      "https://www.imdb.com//title/tt31835725/?ref_=sr_t_49 has Stars issue 'NoneType' object has no attribute 'text'\n",
      "https://www.imdb.com//title/tt31835725/?ref_=sr_t_49 has Director or Writer issue 'NoneType' object has no attribute 'text'\n",
      "https://www.imdb.com//title/tt31835725/?ref_=sr_t_49 has Summary issue 'NoneType' object has no attribute 'text'\n",
      "https://www.imdb.com//title/tt18680228/?ref_=sr_t_50 has Stars issue 'NoneType' object has no attribute 'text'\n",
      "https://www.imdb.com//title/tt18680228/?ref_=sr_t_50 has Stars issue 'NoneType' object has no attribute 'text'\n",
      "https://www.imdb.com//title/tt18680228/?ref_=sr_t_50 has Director or Writer issue 'NoneType' object has no attribute 'text'\n",
      "https://www.imdb.com//title/tt27459113/?ref_=sr_t_51 has Stars issue 'NoneType' object has no attribute 'text'\n",
      "https://www.imdb.com//title/tt27459113/?ref_=sr_t_51 has Stars issue 'NoneType' object has no attribute 'text'\n",
      "https://www.imdb.com//title/tt27459113/?ref_=sr_t_51 has Director or Writer issue 'NoneType' object has no attribute 'text'\n",
      "https://www.imdb.com//title/tt8289002/?ref_=sr_t_52 has Stars issue 'NoneType' object has no attribute 'text'\n",
      "https://www.imdb.com//title/tt8289002/?ref_=sr_t_52 has Stars issue 'NoneType' object has no attribute 'text'\n",
      "https://www.imdb.com//title/tt8289002/?ref_=sr_t_52 has Director or Writer issue 'NoneType' object has no attribute 'text'\n",
      "Less than 3\n",
      "https://www.imdb.com//title/tt29032172/?ref_=sr_t_54 has Stars issue 'NoneType' object has no attribute 'text'\n",
      "https://www.imdb.com//title/tt29032172/?ref_=sr_t_54 has Stars issue 'NoneType' object has no attribute 'text'\n",
      "https://www.imdb.com//title/tt29032172/?ref_=sr_t_54 has Director or Writer issue 'NoneType' object has no attribute 'text'\n",
      "https://www.imdb.com//title/tt14632782/?ref_=sr_t_55 has Stars issue 'NoneType' object has no attribute 'text'\n",
      "https://www.imdb.com//title/tt14632782/?ref_=sr_t_55 has Stars issue 'NoneType' object has no attribute 'text'\n",
      "https://www.imdb.com//title/tt14632782/?ref_=sr_t_55 has Stars issue 'NoneType' object has no attribute 'text'\n",
      "https://www.imdb.com//title/tt14632782/?ref_=sr_t_55 has Date or Title issue 'NoneType' object has no attribute 'text'\n",
      "https://www.imdb.com//title/tt35304963/?ref_=sr_t_56 has Stars issue 'NoneType' object has no attribute 'text'\n",
      "https://www.imdb.com//title/tt35304963/?ref_=sr_t_56 has Stars issue 'NoneType' object has no attribute 'text'\n",
      "https://www.imdb.com//title/tt35304963/?ref_=sr_t_56 has Stars issue 'NoneType' object has no attribute 'text'\n",
      "https://www.imdb.com//title/tt35304963/?ref_=sr_t_56 has Date or Title issue 'NoneType' object has no attribute 'text'\n",
      "https://www.imdb.com//title/tt23770642/?ref_=sr_t_57 has Stars issue 'NoneType' object has no attribute 'text'\n",
      "https://www.imdb.com//title/tt23770642/?ref_=sr_t_57 has Stars issue 'NoneType' object has no attribute 'text'\n",
      "https://www.imdb.com//title/tt23770642/?ref_=sr_t_57 has Director or Writer issue 'NoneType' object has no attribute 'text'\n",
      "https://www.imdb.com//title/tt12321124/?ref_=sr_t_58 has Stars issue 'NoneType' object has no attribute 'text'\n",
      "https://www.imdb.com//title/tt12321124/?ref_=sr_t_58 has Stars issue 'NoneType' object has no attribute 'text'\n",
      "https://www.imdb.com//title/tt12321124/?ref_=sr_t_58 has Director or Writer issue 'NoneType' object has no attribute 'text'\n",
      "https://www.imdb.com//title/tt12321124/?ref_=sr_t_58 has Summary issue 'NoneType' object has no attribute 'text'\n",
      "https://www.imdb.com//title/tt35740455/?ref_=sr_t_59 has Stars issue 'NoneType' object has no attribute 'text'\n",
      "https://www.imdb.com//title/tt35740455/?ref_=sr_t_59 has Stars issue 'NoneType' object has no attribute 'text'\n",
      "https://www.imdb.com//title/tt35740455/?ref_=sr_t_59 has Director or Writer issue 'NoneType' object has no attribute 'text'\n",
      "https://www.imdb.com//title/tt8915854/?ref_=sr_t_60 has Stars issue 'NoneType' object has no attribute 'text'\n",
      "https://www.imdb.com//title/tt8915854/?ref_=sr_t_60 has Stars issue 'NoneType' object has no attribute 'text'\n",
      "https://www.imdb.com//title/tt8915854/?ref_=sr_t_60 has Director or Writer issue 'NoneType' object has no attribute 'text'\n",
      "https://www.imdb.com//title/tt8915854/?ref_=sr_t_60 has Summary issue 'NoneType' object has no attribute 'text'\n",
      "https://www.imdb.com//title/tt2210657/?ref_=sr_t_61 has Stars issue 'NoneType' object has no attribute 'text'\n",
      "https://www.imdb.com//title/tt2210657/?ref_=sr_t_61 has Stars issue 'NoneType' object has no attribute 'text'\n",
      "https://www.imdb.com//title/tt2210657/?ref_=sr_t_61 has Director or Writer issue 'NoneType' object has no attribute 'text'\n",
      "https://www.imdb.com//title/tt2408026/?ref_=sr_t_62 has Stars issue 'NoneType' object has no attribute 'text'\n",
      "https://www.imdb.com//title/tt2408026/?ref_=sr_t_62 has Stars issue 'NoneType' object has no attribute 'text'\n",
      "https://www.imdb.com//title/tt2408026/?ref_=sr_t_62 has Director or Writer issue 'NoneType' object has no attribute 'text'\n",
      "https://www.imdb.com//title/tt16121280/?ref_=sr_t_63 has Stars issue 'NoneType' object has no attribute 'text'\n",
      "https://www.imdb.com//title/tt16121280/?ref_=sr_t_63 has Stars issue 'NoneType' object has no attribute 'text'\n",
      "https://www.imdb.com//title/tt16121280/?ref_=sr_t_63 has Director or Writer issue 'NoneType' object has no attribute 'text'\n",
      "https://www.imdb.com//title/tt22037606/?ref_=sr_t_64 has Stars issue 'NoneType' object has no attribute 'text'\n",
      "https://www.imdb.com//title/tt22037606/?ref_=sr_t_64 has Stars issue 'NoneType' object has no attribute 'text'\n",
      "https://www.imdb.com//title/tt22037606/?ref_=sr_t_64 has Director or Writer issue 'NoneType' object has no attribute 'text'\n",
      "https://www.imdb.com//title/tt22037606/?ref_=sr_t_64 has Summary issue 'NoneType' object has no attribute 'text'\n",
      "https://www.imdb.com//title/tt8500232/?ref_=sr_t_65 has Stars issue 'NoneType' object has no attribute 'text'\n",
      "https://www.imdb.com//title/tt8500232/?ref_=sr_t_65 has Stars issue 'NoneType' object has no attribute 'text'\n",
      "https://www.imdb.com//title/tt8500232/?ref_=sr_t_65 has Director or Writer issue 'NoneType' object has no attribute 'text'\n",
      "https://www.imdb.com//title/tt8500232/?ref_=sr_t_65 has Summary issue 'NoneType' object has no attribute 'text'\n",
      "https://www.imdb.com//title/tt8475990/?ref_=sr_t_66 has Stars issue 'NoneType' object has no attribute 'text'\n",
      "https://www.imdb.com//title/tt8475990/?ref_=sr_t_66 has Director or Writer issue 'NoneType' object has no attribute 'text'\n",
      "https://www.imdb.com//title/tt8475990/?ref_=sr_t_66 has Director or Writer issue 'NoneType' object has no attribute 'text'\n",
      "https://www.imdb.com//title/tt2007972/?ref_=sr_t_67 has Stars issue 'NoneType' object has no attribute 'text'\n",
      "https://www.imdb.com//title/tt2007972/?ref_=sr_t_67 has Stars issue 'NoneType' object has no attribute 'text'\n",
      "https://www.imdb.com//title/tt2007972/?ref_=sr_t_67 has Director or Writer issue 'NoneType' object has no attribute 'text'\n",
      "https://www.imdb.com//title/tt9623736/?ref_=sr_t_68 has Stars issue 'NoneType' object has no attribute 'text'\n",
      "https://www.imdb.com//title/tt9623736/?ref_=sr_t_68 has Stars issue 'NoneType' object has no attribute 'text'\n",
      "https://www.imdb.com//title/tt9623736/?ref_=sr_t_68 has Director or Writer issue 'NoneType' object has no attribute 'text'\n",
      "https://www.imdb.com//title/tt6710486/?ref_=sr_t_69 has Stars issue 'NoneType' object has no attribute 'text'\n",
      "https://www.imdb.com//title/tt6710486/?ref_=sr_t_69 has Stars issue 'NoneType' object has no attribute 'text'\n",
      "https://www.imdb.com//title/tt6710486/?ref_=sr_t_69 has Director or Writer issue 'NoneType' object has no attribute 'text'\n",
      "https://www.imdb.com//title/tt8387542/?ref_=sr_t_70 has Stars issue 'NoneType' object has no attribute 'text'\n",
      "https://www.imdb.com//title/tt8387542/?ref_=sr_t_70 has Stars issue 'NoneType' object has no attribute 'text'\n",
      "https://www.imdb.com//title/tt8387542/?ref_=sr_t_70 has Director or Writer issue 'NoneType' object has no attribute 'text'\n",
      "https://www.imdb.com//title/tt14617248/?ref_=sr_t_71 has Stars issue 'NoneType' object has no attribute 'text'\n",
      "https://www.imdb.com//title/tt14617248/?ref_=sr_t_71 has Stars issue 'NoneType' object has no attribute 'text'\n",
      "https://www.imdb.com//title/tt14617248/?ref_=sr_t_71 has Director or Writer issue 'NoneType' object has no attribute 'text'\n",
      "https://www.imdb.com//title/tt6249904/?ref_=sr_t_72 has Stars issue 'NoneType' object has no attribute 'text'\n",
      "https://www.imdb.com//title/tt6249904/?ref_=sr_t_72 has Stars issue 'NoneType' object has no attribute 'text'\n",
      "https://www.imdb.com//title/tt6249904/?ref_=sr_t_72 has Director or Writer issue 'NoneType' object has no attribute 'text'\n",
      "https://www.imdb.com//title/tt31789137/?ref_=sr_t_73 has Stars issue 'NoneType' object has no attribute 'text'\n",
      "https://www.imdb.com//title/tt31789137/?ref_=sr_t_73 has Stars issue 'NoneType' object has no attribute 'text'\n",
      "https://www.imdb.com//title/tt31789137/?ref_=sr_t_73 has Director or Writer issue 'NoneType' object has no attribute 'text'\n",
      "https://www.imdb.com//title/tt8503108/?ref_=sr_t_74 has Stars issue 'NoneType' object has no attribute 'text'\n",
      "https://www.imdb.com//title/tt8503108/?ref_=sr_t_74 has Stars issue 'NoneType' object has no attribute 'text'\n",
      "https://www.imdb.com//title/tt8503108/?ref_=sr_t_74 has Director or Writer issue 'NoneType' object has no attribute 'text'\n",
      "https://www.imdb.com//title/tt8885872/?ref_=sr_t_75 has Stars issue 'NoneType' object has no attribute 'text'\n",
      "https://www.imdb.com//title/tt8885872/?ref_=sr_t_75 has Stars issue 'NoneType' object has no attribute 'text'\n",
      "https://www.imdb.com//title/tt8885872/?ref_=sr_t_75 has Director or Writer issue 'NoneType' object has no attribute 'text'\n",
      "https://www.imdb.com//title/tt8885872/?ref_=sr_t_75 has Summary issue 'NoneType' object has no attribute 'text'\n",
      "https://www.imdb.com//title/tt2808236/?ref_=sr_t_76 has Stars issue 'NoneType' object has no attribute 'text'\n",
      "https://www.imdb.com//title/tt2808236/?ref_=sr_t_76 has Stars issue 'NoneType' object has no attribute 'text'\n",
      "https://www.imdb.com//title/tt2808236/?ref_=sr_t_76 has Director or Writer issue 'NoneType' object has no attribute 'text'\n",
      "https://www.imdb.com//title/tt17493572/?ref_=sr_t_77 has Stars issue 'NoneType' object has no attribute 'text'\n",
      "https://www.imdb.com//title/tt17493572/?ref_=sr_t_77 has Stars issue 'NoneType' object has no attribute 'text'\n",
      "https://www.imdb.com//title/tt17493572/?ref_=sr_t_77 has Director or Writer issue 'NoneType' object has no attribute 'text'\n",
      "https://www.imdb.com//title/tt9382076/?ref_=sr_t_78 has Stars issue 'NoneType' object has no attribute 'text'\n",
      "https://www.imdb.com//title/tt9382076/?ref_=sr_t_78 has Director or Writer issue 'NoneType' object has no attribute 'text'\n",
      "https://www.imdb.com//title/tt9382076/?ref_=sr_t_78 has Director or Writer issue 'NoneType' object has no attribute 'text'\n",
      "https://www.imdb.com//title/tt9382076/?ref_=sr_t_78 has Summary issue 'NoneType' object has no attribute 'text'\n",
      "Less than 3\n",
      "https://www.imdb.com//title/tt36386055/?ref_=sr_t_80 has Stars issue 'NoneType' object has no attribute 'text'\n",
      "https://www.imdb.com//title/tt36386055/?ref_=sr_t_80 has Stars issue 'NoneType' object has no attribute 'text'\n",
      "https://www.imdb.com//title/tt36386055/?ref_=sr_t_80 has Director or Writer issue 'NoneType' object has no attribute 'text'\n",
      "https://www.imdb.com//title/tt36386055/?ref_=sr_t_80 has Summary issue 'NoneType' object has no attribute 'text'\n",
      "https://www.imdb.com//title/tt2055577/?ref_=sr_t_81 has Stars issue 'NoneType' object has no attribute 'text'\n",
      "https://www.imdb.com//title/tt2055577/?ref_=sr_t_81 has Stars issue 'NoneType' object has no attribute 'text'\n",
      "https://www.imdb.com//title/tt2055577/?ref_=sr_t_81 has Director or Writer issue 'NoneType' object has no attribute 'text'\n",
      "https://www.imdb.com//title/tt7672868/?ref_=sr_t_82 has Stars issue 'NoneType' object has no attribute 'text'\n",
      "https://www.imdb.com//title/tt7672868/?ref_=sr_t_82 has Stars issue 'NoneType' object has no attribute 'text'\n",
      "https://www.imdb.com//title/tt7672868/?ref_=sr_t_82 has Director or Writer issue 'NoneType' object has no attribute 'text'\n",
      "https://www.imdb.com//title/tt1729652/?ref_=sr_t_83 has Stars issue 'NoneType' object has no attribute 'text'\n",
      "https://www.imdb.com//title/tt1729652/?ref_=sr_t_83 has Director or Writer issue 'NoneType' object has no attribute 'text'\n",
      "https://www.imdb.com//title/tt1729652/?ref_=sr_t_83 has Director or Writer issue 'NoneType' object has no attribute 'text'\n",
      "https://www.imdb.com//title/tt6705126/?ref_=sr_t_84 has Stars issue 'NoneType' object has no attribute 'text'\n",
      "https://www.imdb.com//title/tt6705126/?ref_=sr_t_84 has Stars issue 'NoneType' object has no attribute 'text'\n",
      "https://www.imdb.com//title/tt6705126/?ref_=sr_t_84 has Director or Writer issue 'NoneType' object has no attribute 'text'\n",
      "https://www.imdb.com//title/tt10942220/?ref_=sr_t_85 has Stars issue 'NoneType' object has no attribute 'text'\n",
      "https://www.imdb.com//title/tt10942220/?ref_=sr_t_85 has Stars issue 'NoneType' object has no attribute 'text'\n",
      "https://www.imdb.com//title/tt10942220/?ref_=sr_t_85 has Director or Writer issue 'NoneType' object has no attribute 'text'\n",
      "https://www.imdb.com//title/tt34424701/?ref_=sr_t_86 has Stars issue 'NoneType' object has no attribute 'text'\n",
      "https://www.imdb.com//title/tt34424701/?ref_=sr_t_86 has Stars issue 'NoneType' object has no attribute 'text'\n",
      "https://www.imdb.com//title/tt34424701/?ref_=sr_t_86 has Director or Writer issue 'NoneType' object has no attribute 'text'\n",
      "https://www.imdb.com//title/tt34424701/?ref_=sr_t_86 has Date or Title issue 'NoneType' object has no attribute 'text'\n",
      "https://www.imdb.com//title/tt33098802/?ref_=sr_t_87 has Stars issue 'NoneType' object has no attribute 'text'\n",
      "https://www.imdb.com//title/tt33098802/?ref_=sr_t_87 has Stars issue 'NoneType' object has no attribute 'text'\n",
      "https://www.imdb.com//title/tt33098802/?ref_=sr_t_87 has Director or Writer issue 'NoneType' object has no attribute 'text'\n",
      "Less than 3\n",
      "Less than 3\n",
      "https://www.imdb.com//title/tt10127566/?ref_=sr_t_90 has Stars issue 'NoneType' object has no attribute 'text'\n",
      "https://www.imdb.com//title/tt10127566/?ref_=sr_t_90 has Stars issue 'NoneType' object has no attribute 'text'\n",
      "https://www.imdb.com//title/tt10127566/?ref_=sr_t_90 has Stars issue 'NoneType' object has no attribute 'text'\n",
      "https://www.imdb.com//title/tt10127566/?ref_=sr_t_90 has Date or Title issue 'NoneType' object has no attribute 'text'\n",
      "Less than 3\n",
      "https://www.imdb.com//title/tt7305634/?ref_=sr_t_92 has Stars issue 'NoneType' object has no attribute 'text'\n",
      "https://www.imdb.com//title/tt7305634/?ref_=sr_t_92 has Stars issue 'NoneType' object has no attribute 'text'\n",
      "https://www.imdb.com//title/tt7305634/?ref_=sr_t_92 has Director or Writer issue 'NoneType' object has no attribute 'text'\n",
      "Less than 3\n",
      "https://www.imdb.com//title/tt0303807/?ref_=sr_t_94 has Stars issue 'NoneType' object has no attribute 'text'\n",
      "https://www.imdb.com//title/tt0303807/?ref_=sr_t_94 has Stars issue 'NoneType' object has no attribute 'text'\n",
      "https://www.imdb.com//title/tt0303807/?ref_=sr_t_94 has Director or Writer issue 'NoneType' object has no attribute 'text'\n",
      "https://www.imdb.com//title/tt0303807/?ref_=sr_t_94 has Summary issue 'NoneType' object has no attribute 'text'\n",
      "https://www.imdb.com//title/tt22462224/?ref_=sr_t_95 has Stars issue 'NoneType' object has no attribute 'text'\n",
      "https://www.imdb.com//title/tt22462224/?ref_=sr_t_95 has Stars issue 'NoneType' object has no attribute 'text'\n",
      "https://www.imdb.com//title/tt22462224/?ref_=sr_t_95 has Director or Writer issue 'NoneType' object has no attribute 'text'\n",
      "https://www.imdb.com//title/tt34739549/?ref_=sr_t_96 has Stars issue 'NoneType' object has no attribute 'text'\n",
      "https://www.imdb.com//title/tt34739549/?ref_=sr_t_96 has Stars issue 'NoneType' object has no attribute 'text'\n",
      "https://www.imdb.com//title/tt34739549/?ref_=sr_t_96 has Director or Writer issue 'NoneType' object has no attribute 'text'\n",
      "https://www.imdb.com//title/tt10623658/?ref_=sr_t_97 has Stars issue 'NoneType' object has no attribute 'text'\n",
      "https://www.imdb.com//title/tt10623658/?ref_=sr_t_97 has Stars issue 'NoneType' object has no attribute 'text'\n",
      "https://www.imdb.com//title/tt10623658/?ref_=sr_t_97 has Director or Writer issue 'NoneType' object has no attribute 'text'\n",
      "https://www.imdb.com//title/tt9878856/?ref_=sr_t_98 has Stars issue 'NoneType' object has no attribute 'text'\n",
      "https://www.imdb.com//title/tt9878856/?ref_=sr_t_98 has Stars issue 'NoneType' object has no attribute 'text'\n",
      "https://www.imdb.com//title/tt9878856/?ref_=sr_t_98 has Director or Writer issue 'NoneType' object has no attribute 'text'\n",
      "https://www.imdb.com//title/tt9878856/?ref_=sr_t_98 has Summary issue 'NoneType' object has no attribute 'text'\n",
      "https://www.imdb.com//title/tt1999911/?ref_=sr_t_99 has Stars issue 'NoneType' object has no attribute 'text'\n",
      "https://www.imdb.com//title/tt1999911/?ref_=sr_t_99 has Stars issue 'NoneType' object has no attribute 'text'\n",
      "https://www.imdb.com//title/tt1999911/?ref_=sr_t_99 has Director or Writer issue 'NoneType' object has no attribute 'text'\n",
      "https://www.imdb.com//title/tt1999911/?ref_=sr_t_99 has Summary issue 'NoneType' object has no attribute 'text'\n",
      "https://www.imdb.com//title/tt6501286/?ref_=sr_t_100 has Stars issue 'NoneType' object has no attribute 'text'\n",
      "https://www.imdb.com//title/tt6501286/?ref_=sr_t_100 has Stars issue 'NoneType' object has no attribute 'text'\n",
      "https://www.imdb.com//title/tt6501286/?ref_=sr_t_100 has Director or Writer issue 'NoneType' object has no attribute 'text'\n"
     ]
    }
   ],
   "source": [
    "for i in href:\n",
    "    # Defining a header to mimic a real browser request\n",
    "    headers = {'User-Agent':'Mozilla/5.0 (Windows NT 10.0; Win64; x64) AppleWebKit/537.36 (KHTML, like Gecko) Chrome/133.0.0.0 Safari/537.36'}\n",
    "    \n",
    "    url = 'https://www.imdb.com/' + i\n",
    "    request = requests.get(url,headers = headers)\n",
    "    soup = BeautifulSoup(request.text,'lxml')\n",
    "                         \n",
    "     # Trying to find the unordered list that contains metadata like directors, writers, stars, etc.\n",
    "    unorder = soup.find('ul',class_=\"ipc-metadata-list ipc-metadata-list--dividers-all title-pc-list ipc-metadata-list--baseAlt\")\n",
    "\n",
    "    # Check if the 'unorder' list exists and has at least 3 items(Director, Writers and Stars)\n",
    "    if unorder is not None and len(unorder)==3:\n",
    "        for i in unorder:\n",
    "            try:\n",
    "\n",
    "                # Extracting the role (e.g., Director, Writer, Star) from the metadata list\n",
    "                role = i.find('span',class_=\"ipc-metadata-list-item__label ipc-metadata-list-item__label--btn ipc-btn--not-interactable\").text\n",
    "                if role in list1.keys():    \n",
    "                    names = []\n",
    "\n",
    "                    # Extracting the names associated with the role (Directors, Writers, Stars, etc.)\n",
    "                    name = i.find_all('a',class_ = \"ipc-metadata-list-item__list-content-item ipc-metadata-list-item__list-content-item--link\")\n",
    "                    for i in name:\n",
    "                        names.append(i.text)\n",
    "\n",
    "                 # Appending the extracted names to the appropriate list based on the role\n",
    "                    if role == 'Director' or role == 'Directors':\n",
    "                        Director.append(names)\n",
    "                    elif role == 'Writer' or role == 'Writers':\n",
    "                        Writer.append(names)\n",
    "                    elif role == 'Stars' or role == 'Star':\n",
    "                        Stars.append(names)\n",
    "                    \n",
    "            except Exception as e:\n",
    "                print(f'{url} has Director or Writer issue {e}')       # Handle any issues encountered during director or writer extraction\n",
    "            try:\n",
    "\n",
    "                # Extracting additional roles (e.g., Star, Writer) if available\n",
    "                role = i.find('a',class_='ipc-metadata-list-item__label ipc-metadata-list-item__label--link').text    \n",
    "                if role in list1.keys():\n",
    "                    names = []\n",
    "                    name = i.find_all('a',class_=\"ipc-metadata-list-item__list-content-item ipc-metadata-list-item__list-content-item--link\")\n",
    "                    for i in name:\n",
    "                        names.append(i.text)\n",
    "                    if role == 'Stars' or role == 'Star':\n",
    "                        Stars.append(names)\n",
    "                    elif role == 'Writer' or role == 'Writers':\n",
    "                        Writer.append(names)\n",
    "            except Exception as e:\n",
    "                print(f'{url} has Stars issue {e}')\n",
    "    else:\n",
    "        print('Less than 3')\n",
    "        continue          # If less than 3 items found, skip to the next URL\n",
    "    try:\n",
    "        \n",
    "        # Extracting movie title and release date from the page\n",
    "        title_date = soup.find('div', class_=\"sc-70a366cc-0 bxYZmb\")\n",
    "        title = title_date.find('span', class_=\"hero__primary-text\").text\n",
    "        Title.append(title)\n",
    "        date = title_date.find('a',class_=\"ipc-link ipc-link--baseAlt ipc-link--inherit-color\").text\n",
    "        Release_date.append(date)\n",
    "    except Exception as e:\n",
    "\n",
    "        # If there is an error extracting the title or release date, append 'N/A'\n",
    "        Title.append('N/A')\n",
    "        Release_date.append('N/A')\n",
    "        print(f\"{url} has Date or Title issue {e}\")\n",
    "    try:\n",
    "\n",
    "         # Extracting movie genres\n",
    "        genre = soup.find_all('span',class_=\"ipc-chip__text\")\n",
    "        list2 = []\n",
    "        for i in genre:\n",
    "            list2.append(i.text)\n",
    "        Genre.append(list2[:-1])    # Removing the last element (not a genre)\n",
    "    except Exception as e:\n",
    "\n",
    "         # If there is an error extracting the title or release date, append 'N/A'\n",
    "        Genre.append('N/A')\n",
    "        print(f\"{url} has Genre issue {e}\")\n",
    "    try:\n",
    "\n",
    "         # Extracting movie image \n",
    "        image = soup.find('img', \"ipc-image\" )['src']\n",
    "        Image.append(image)\n",
    "    except Exception as e:\n",
    "        Image.append('N/A')\n",
    "        print(f'{url} has Image issue {e}')\n",
    "    try:\n",
    "\n",
    "        # Trying to fetch the movie plot summary by navigating to the 'plotsummary' page\n",
    "        url2 = 'plotsummary/'\n",
    "        url3 = url.replace('/?ref','/plotsummary/?ref')\n",
    "        request = requests.get(url3,headers = headers)\n",
    "        soup = BeautifulSoup(request.text,'lxml')\n",
    "        summary = soup.find('div', class_=\"ipc-html-content-inner-div\").text\n",
    "        Summaries.append(summary)\n",
    "    except Exception as e:\n",
    "        Summaries.append('N/A')\n",
    "        print(f'{url} has Summary issue {e}')"
   ]
  },
  {
   "cell_type": "code",
   "execution_count": 23,
   "id": "2c78767f-d7c5-4acc-a58e-be6fc8a4249d",
   "metadata": {},
   "outputs": [
    {
     "data": {
      "text/plain": [
       "90"
      ]
     },
     "execution_count": 23,
     "metadata": {},
     "output_type": "execute_result"
    }
   ],
   "source": [
    "Title = [item for item in Title if item != 'N/A']   # Filtering out 'N/A' values from the 'Title' list to keep only valid movie titles\n",
    "len(Title)    #Checking the length of the 'Title' list"
   ]
  },
  {
   "cell_type": "code",
   "execution_count": 25,
   "id": "df1ad5d5-46d6-4608-bac4-10025f72832c",
   "metadata": {},
   "outputs": [
    {
     "data": {
      "text/plain": [
       "90"
      ]
     },
     "execution_count": 25,
     "metadata": {},
     "output_type": "execute_result"
    }
   ],
   "source": [
    "len(Image)   #Checking the length of the 'Image' list"
   ]
  },
  {
   "cell_type": "code",
   "execution_count": 27,
   "id": "9d599a5a-5916-4cb5-ab0f-8e7756dcaf64",
   "metadata": {},
   "outputs": [
    {
     "data": {
      "text/plain": [
       "90"
      ]
     },
     "execution_count": 27,
     "metadata": {},
     "output_type": "execute_result"
    }
   ],
   "source": [
    "len(Stars)     #Checking the length of the 'Stars' list"
   ]
  },
  {
   "cell_type": "code",
   "execution_count": 29,
   "id": "91c9463d-a327-41ac-b435-a86112a0b49f",
   "metadata": {},
   "outputs": [
    {
     "data": {
      "text/plain": [
       "90"
      ]
     },
     "execution_count": 29,
     "metadata": {},
     "output_type": "execute_result"
    }
   ],
   "source": [
    "len(Writer)      #Checking the length of the 'Writer' list"
   ]
  },
  {
   "cell_type": "code",
   "execution_count": 31,
   "id": "7dd94f71-7772-43d3-a93b-5c32a786ae06",
   "metadata": {},
   "outputs": [
    {
     "data": {
      "text/plain": [
       "90"
      ]
     },
     "execution_count": 31,
     "metadata": {},
     "output_type": "execute_result"
    }
   ],
   "source": [
    "len(Director)     #Checking the length of the 'Director' list"
   ]
  },
  {
   "cell_type": "code",
   "execution_count": 33,
   "id": "b79f8094-baa8-4ce4-8e65-69416a085428",
   "metadata": {},
   "outputs": [
    {
     "data": {
      "text/plain": [
       "90"
      ]
     },
     "execution_count": 33,
     "metadata": {},
     "output_type": "execute_result"
    }
   ],
   "source": [
    "len(Release_date)   #Checking the length of the 'Release_date' list"
   ]
  },
  {
   "cell_type": "code",
   "execution_count": 35,
   "id": "3556d939-f0c1-4597-bd9b-cae550ce72d2",
   "metadata": {},
   "outputs": [
    {
     "data": {
      "text/plain": [
       "90"
      ]
     },
     "execution_count": 35,
     "metadata": {},
     "output_type": "execute_result"
    }
   ],
   "source": [
    "len(Summaries)      #Checking the length of the 'Summaries' list"
   ]
  },
  {
   "cell_type": "code",
   "execution_count": 37,
   "id": "90d90673-59e8-48e4-8b5d-ddcfb14cb4fa",
   "metadata": {},
   "outputs": [
    {
     "data": {
      "text/plain": [
       "90"
      ]
     },
     "execution_count": 37,
     "metadata": {},
     "output_type": "execute_result"
    }
   ],
   "source": [
    "len(Genre)            #Checking the length of the 'Genre' list"
   ]
  },
  {
   "cell_type": "code",
   "execution_count": 39,
   "id": "8b7361c2-93a7-4f22-ac10-d3e6dfe1b5ff",
   "metadata": {},
   "outputs": [],
   "source": [
    "# Creating a Pandas DataFrame from the extracted data\n",
    "df = pd.DataFrame({\n",
    "    'Title':Title,\n",
    "    'Director':Director,\n",
    "    'Writer':Writer,\n",
    "    'Stars':Stars,\n",
    "    'Genre':Genre,\n",
    "    'Release_Date':Release_date,\n",
    "    'Overview':Summaries,\n",
    "    'Image':Image\n",
    "})"
   ]
  },
  {
   "cell_type": "code",
   "execution_count": 41,
   "id": "8ad48141-821f-4251-ba59-ff97b9b0c1aa",
   "metadata": {},
   "outputs": [
    {
     "data": {
      "text/html": [
       "<div>\n",
       "<style scoped>\n",
       "    .dataframe tbody tr th:only-of-type {\n",
       "        vertical-align: middle;\n",
       "    }\n",
       "\n",
       "    .dataframe tbody tr th {\n",
       "        vertical-align: top;\n",
       "    }\n",
       "\n",
       "    .dataframe thead th {\n",
       "        text-align: right;\n",
       "    }\n",
       "</style>\n",
       "<table border=\"1\" class=\"dataframe\">\n",
       "  <thead>\n",
       "    <tr style=\"text-align: right;\">\n",
       "      <th></th>\n",
       "      <th>Title</th>\n",
       "      <th>Director</th>\n",
       "      <th>Writer</th>\n",
       "      <th>Stars</th>\n",
       "      <th>Genre</th>\n",
       "      <th>Release_Date</th>\n",
       "      <th>Overview</th>\n",
       "      <th>Image</th>\n",
       "    </tr>\n",
       "  </thead>\n",
       "  <tbody>\n",
       "    <tr>\n",
       "      <th>0</th>\n",
       "      <td>The Red Suitcase</td>\n",
       "      <td>[Fidel Devkota]</td>\n",
       "      <td>[Fidel Devkota]</td>\n",
       "      <td>[Saugat Malla, Prabin Khatiwada, Shristi Shres...</td>\n",
       "      <td>[Drama, Mystery]</td>\n",
       "      <td>2023</td>\n",
       "      <td>A pick-up truck driver leaves Kathmandu airpor...</td>\n",
       "      <td>https://m.media-amazon.com/images/M/MV5BYmY0Zj...</td>\n",
       "    </tr>\n",
       "    <tr>\n",
       "      <th>1</th>\n",
       "      <td>Pitaambar</td>\n",
       "      <td>[Krisha Chaulagain]</td>\n",
       "      <td>[Pradeep Bhardwaj, Abhimanyu Nirabi]</td>\n",
       "      <td>[Dayahang Rai, Pradeep Khadka, Supushpa Bhatta]</td>\n",
       "      <td>[Action]</td>\n",
       "      <td>2025</td>\n",
       "      <td>Pitambar is a story of a fearless and tactful ...</td>\n",
       "      <td>https://m.media-amazon.com/images/M/MV5BNmYxMD...</td>\n",
       "    </tr>\n",
       "    <tr>\n",
       "      <th>2</th>\n",
       "      <td>Boksi Ko Ghar</td>\n",
       "      <td>[Sulakshyan Bharati]</td>\n",
       "      <td>[Sulakshyan Bharati]</td>\n",
       "      <td>[Keki Adhikari, Shupala Sapkota, Swechchha Raut]</td>\n",
       "      <td>[Thriller]</td>\n",
       "      <td>2024</td>\n",
       "      <td>The plot follows a journalist investigating a ...</td>\n",
       "      <td>https://m.media-amazon.com/images/M/MV5BZWY4ZD...</td>\n",
       "    </tr>\n",
       "    <tr>\n",
       "      <th>3</th>\n",
       "      <td>Sherpa</td>\n",
       "      <td>[Jennifer Peedom]</td>\n",
       "      <td>[Jennifer Peedom]</td>\n",
       "      <td>[Russell Brice, Tim Medvetz, Pasang Tenzing Sh...</td>\n",
       "      <td>[Documentary]</td>\n",
       "      <td>2015</td>\n",
       "      <td>In 2014, director Jennifer Peedom was working ...</td>\n",
       "      <td>https://m.media-amazon.com/images/M/MV5BMjAwOD...</td>\n",
       "    </tr>\n",
       "    <tr>\n",
       "      <th>4</th>\n",
       "      <td>Purna Bahadur Ko Sarangi</td>\n",
       "      <td>[Saroj Poudel]</td>\n",
       "      <td>[Mahesh Dawadi, Saroj Poudel]</td>\n",
       "      <td>[Bijay Baral, Prakash Saput, Swayam KC]</td>\n",
       "      <td>[Drama]</td>\n",
       "      <td>2024</td>\n",
       "      <td>A struggling single father battles poverty, us...</td>\n",
       "      <td>https://m.media-amazon.com/images/M/MV5BNzY4ND...</td>\n",
       "    </tr>\n",
       "  </tbody>\n",
       "</table>\n",
       "</div>"
      ],
      "text/plain": [
       "                      Title              Director  \\\n",
       "0          The Red Suitcase       [Fidel Devkota]   \n",
       "1                 Pitaambar   [Krisha Chaulagain]   \n",
       "2             Boksi Ko Ghar  [Sulakshyan Bharati]   \n",
       "3                    Sherpa     [Jennifer Peedom]   \n",
       "4  Purna Bahadur Ko Sarangi        [Saroj Poudel]   \n",
       "\n",
       "                                 Writer  \\\n",
       "0                       [Fidel Devkota]   \n",
       "1  [Pradeep Bhardwaj, Abhimanyu Nirabi]   \n",
       "2                  [Sulakshyan Bharati]   \n",
       "3                     [Jennifer Peedom]   \n",
       "4         [Mahesh Dawadi, Saroj Poudel]   \n",
       "\n",
       "                                               Stars             Genre  \\\n",
       "0  [Saugat Malla, Prabin Khatiwada, Shristi Shres...  [Drama, Mystery]   \n",
       "1    [Dayahang Rai, Pradeep Khadka, Supushpa Bhatta]          [Action]   \n",
       "2   [Keki Adhikari, Shupala Sapkota, Swechchha Raut]        [Thriller]   \n",
       "3  [Russell Brice, Tim Medvetz, Pasang Tenzing Sh...     [Documentary]   \n",
       "4            [Bijay Baral, Prakash Saput, Swayam KC]           [Drama]   \n",
       "\n",
       "  Release_Date                                           Overview  \\\n",
       "0         2023  A pick-up truck driver leaves Kathmandu airpor...   \n",
       "1         2025  Pitambar is a story of a fearless and tactful ...   \n",
       "2         2024  The plot follows a journalist investigating a ...   \n",
       "3         2015  In 2014, director Jennifer Peedom was working ...   \n",
       "4         2024  A struggling single father battles poverty, us...   \n",
       "\n",
       "                                               Image  \n",
       "0  https://m.media-amazon.com/images/M/MV5BYmY0Zj...  \n",
       "1  https://m.media-amazon.com/images/M/MV5BNmYxMD...  \n",
       "2  https://m.media-amazon.com/images/M/MV5BZWY4ZD...  \n",
       "3  https://m.media-amazon.com/images/M/MV5BMjAwOD...  \n",
       "4  https://m.media-amazon.com/images/M/MV5BNzY4ND...  "
      ]
     },
     "execution_count": 41,
     "metadata": {},
     "output_type": "execute_result"
    }
   ],
   "source": [
    "df.head()"
   ]
  },
  {
   "cell_type": "code",
   "execution_count": 43,
   "id": "355fb33b-9df1-4471-a28e-505cadfd3cdd",
   "metadata": {},
   "outputs": [],
   "source": [
    "def clean_column(column):\n",
    "\n",
    " # If the column is a list, join the elements with a comma to create a single string,Otherwise, return the column as it is\n",
    "    return ', '.join(column) if isinstance(column, list) else column"
   ]
  },
  {
   "cell_type": "code",
   "execution_count": 45,
   "id": "53f782ec-f0d5-4f40-989e-2beda9913ed3",
   "metadata": {},
   "outputs": [],
   "source": [
    "\n",
    "# Applying the clean_column function to 'Director', 'Writer', 'Stars' ,'Genre' columns\n",
    "df['Director'] = df['Director'].apply(clean_column)\n",
    "df['Writer'] = df['Writer'].apply(clean_column)\n",
    "df['Stars'] = df['Stars'].apply(clean_column)\n",
    "df['Genre'] = df['Genre'].apply(clean_column)"
   ]
  },
  {
   "cell_type": "code",
   "execution_count": 47,
   "id": "aa2951a0-c438-4d3c-bb14-297a825b04a9",
   "metadata": {},
   "outputs": [
    {
     "data": {
      "text/html": [
       "<div>\n",
       "<style scoped>\n",
       "    .dataframe tbody tr th:only-of-type {\n",
       "        vertical-align: middle;\n",
       "    }\n",
       "\n",
       "    .dataframe tbody tr th {\n",
       "        vertical-align: top;\n",
       "    }\n",
       "\n",
       "    .dataframe thead th {\n",
       "        text-align: right;\n",
       "    }\n",
       "</style>\n",
       "<table border=\"1\" class=\"dataframe\">\n",
       "  <thead>\n",
       "    <tr style=\"text-align: right;\">\n",
       "      <th></th>\n",
       "      <th>Title</th>\n",
       "      <th>Director</th>\n",
       "      <th>Writer</th>\n",
       "      <th>Stars</th>\n",
       "      <th>Genre</th>\n",
       "      <th>Release_Date</th>\n",
       "      <th>Overview</th>\n",
       "      <th>Image</th>\n",
       "    </tr>\n",
       "  </thead>\n",
       "  <tbody>\n",
       "    <tr>\n",
       "      <th>0</th>\n",
       "      <td>The Red Suitcase</td>\n",
       "      <td>Fidel Devkota</td>\n",
       "      <td>Fidel Devkota</td>\n",
       "      <td>Saugat Malla, Prabin Khatiwada, Shristi Shrestha</td>\n",
       "      <td>Drama, Mystery</td>\n",
       "      <td>2023</td>\n",
       "      <td>A pick-up truck driver leaves Kathmandu airpor...</td>\n",
       "      <td>https://m.media-amazon.com/images/M/MV5BYmY0Zj...</td>\n",
       "    </tr>\n",
       "    <tr>\n",
       "      <th>1</th>\n",
       "      <td>Pitaambar</td>\n",
       "      <td>Krisha Chaulagain</td>\n",
       "      <td>Pradeep Bhardwaj, Abhimanyu Nirabi</td>\n",
       "      <td>Dayahang Rai, Pradeep Khadka, Supushpa Bhatta</td>\n",
       "      <td>Action</td>\n",
       "      <td>2025</td>\n",
       "      <td>Pitambar is a story of a fearless and tactful ...</td>\n",
       "      <td>https://m.media-amazon.com/images/M/MV5BNmYxMD...</td>\n",
       "    </tr>\n",
       "    <tr>\n",
       "      <th>2</th>\n",
       "      <td>Boksi Ko Ghar</td>\n",
       "      <td>Sulakshyan Bharati</td>\n",
       "      <td>Sulakshyan Bharati</td>\n",
       "      <td>Keki Adhikari, Shupala Sapkota, Swechchha Raut</td>\n",
       "      <td>Thriller</td>\n",
       "      <td>2024</td>\n",
       "      <td>The plot follows a journalist investigating a ...</td>\n",
       "      <td>https://m.media-amazon.com/images/M/MV5BZWY4ZD...</td>\n",
       "    </tr>\n",
       "    <tr>\n",
       "      <th>3</th>\n",
       "      <td>Sherpa</td>\n",
       "      <td>Jennifer Peedom</td>\n",
       "      <td>Jennifer Peedom</td>\n",
       "      <td>Russell Brice, Tim Medvetz, Pasang Tenzing Sherpa</td>\n",
       "      <td>Documentary</td>\n",
       "      <td>2015</td>\n",
       "      <td>In 2014, director Jennifer Peedom was working ...</td>\n",
       "      <td>https://m.media-amazon.com/images/M/MV5BMjAwOD...</td>\n",
       "    </tr>\n",
       "    <tr>\n",
       "      <th>4</th>\n",
       "      <td>Purna Bahadur Ko Sarangi</td>\n",
       "      <td>Saroj Poudel</td>\n",
       "      <td>Mahesh Dawadi, Saroj Poudel</td>\n",
       "      <td>Bijay Baral, Prakash Saput, Swayam KC</td>\n",
       "      <td>Drama</td>\n",
       "      <td>2024</td>\n",
       "      <td>A struggling single father battles poverty, us...</td>\n",
       "      <td>https://m.media-amazon.com/images/M/MV5BNzY4ND...</td>\n",
       "    </tr>\n",
       "  </tbody>\n",
       "</table>\n",
       "</div>"
      ],
      "text/plain": [
       "                      Title            Director  \\\n",
       "0          The Red Suitcase       Fidel Devkota   \n",
       "1                 Pitaambar   Krisha Chaulagain   \n",
       "2             Boksi Ko Ghar  Sulakshyan Bharati   \n",
       "3                    Sherpa     Jennifer Peedom   \n",
       "4  Purna Bahadur Ko Sarangi        Saroj Poudel   \n",
       "\n",
       "                               Writer  \\\n",
       "0                       Fidel Devkota   \n",
       "1  Pradeep Bhardwaj, Abhimanyu Nirabi   \n",
       "2                  Sulakshyan Bharati   \n",
       "3                     Jennifer Peedom   \n",
       "4         Mahesh Dawadi, Saroj Poudel   \n",
       "\n",
       "                                               Stars           Genre  \\\n",
       "0   Saugat Malla, Prabin Khatiwada, Shristi Shrestha  Drama, Mystery   \n",
       "1      Dayahang Rai, Pradeep Khadka, Supushpa Bhatta          Action   \n",
       "2     Keki Adhikari, Shupala Sapkota, Swechchha Raut        Thriller   \n",
       "3  Russell Brice, Tim Medvetz, Pasang Tenzing Sherpa     Documentary   \n",
       "4              Bijay Baral, Prakash Saput, Swayam KC           Drama   \n",
       "\n",
       "  Release_Date                                           Overview  \\\n",
       "0         2023  A pick-up truck driver leaves Kathmandu airpor...   \n",
       "1         2025  Pitambar is a story of a fearless and tactful ...   \n",
       "2         2024  The plot follows a journalist investigating a ...   \n",
       "3         2015  In 2014, director Jennifer Peedom was working ...   \n",
       "4         2024  A struggling single father battles poverty, us...   \n",
       "\n",
       "                                               Image  \n",
       "0  https://m.media-amazon.com/images/M/MV5BYmY0Zj...  \n",
       "1  https://m.media-amazon.com/images/M/MV5BNmYxMD...  \n",
       "2  https://m.media-amazon.com/images/M/MV5BZWY4ZD...  \n",
       "3  https://m.media-amazon.com/images/M/MV5BMjAwOD...  \n",
       "4  https://m.media-amazon.com/images/M/MV5BNzY4ND...  "
      ]
     },
     "execution_count": 47,
     "metadata": {},
     "output_type": "execute_result"
    }
   ],
   "source": [
    "df.head()   # Displaying 1st 5 rows"
   ]
  },
  {
   "cell_type": "code",
   "execution_count": 49,
   "id": "28da2a25-6cf3-4d31-bf7a-b7e619d6365c",
   "metadata": {},
   "outputs": [
    {
     "data": {
      "text/plain": [
       "0"
      ]
     },
     "execution_count": 49,
     "metadata": {},
     "output_type": "execute_result"
    }
   ],
   "source": [
    "df.duplicated().sum()  # check for duplicate data "
   ]
  },
  {
   "cell_type": "code",
   "execution_count": 51,
   "id": "18739fe6-e5ec-4554-94d1-7bb0d5ffa418",
   "metadata": {},
   "outputs": [],
   "source": [
    "df.drop_duplicates(inplace=True) # Removing the duplicates data"
   ]
  },
  {
   "cell_type": "code",
   "execution_count": 53,
   "id": "d9924ad5-29a3-4c52-aeba-7398df1eb121",
   "metadata": {},
   "outputs": [
    {
     "data": {
      "text/plain": [
       "(90, 8)"
      ]
     },
     "execution_count": 53,
     "metadata": {},
     "output_type": "execute_result"
    }
   ],
   "source": [
    "df.shape # checking the shape of the dataset"
   ]
  },
  {
   "cell_type": "code",
   "execution_count": 57,
   "id": "bf9731f3-f9e3-47d2-a147-a8adfef0f69a",
   "metadata": {},
   "outputs": [],
   "source": [
    "df.to_csv('Nepali_movie.csv')  #converting to csv file named 'Nepali_movie.csv'"
   ]
  },
  {
   "cell_type": "code",
   "execution_count": null,
   "id": "0b638e3b-b5de-48b8-9fb5-8a2b06305c16",
   "metadata": {},
   "outputs": [],
   "source": []
  }
 ],
 "metadata": {
  "kernelspec": {
   "display_name": "Python [conda env:base] *",
   "language": "python",
   "name": "conda-base-py"
  },
  "language_info": {
   "codemirror_mode": {
    "name": "ipython",
    "version": 3
   },
   "file_extension": ".py",
   "mimetype": "text/x-python",
   "name": "python",
   "nbconvert_exporter": "python",
   "pygments_lexer": "ipython3",
   "version": "3.12.7"
  }
 },
 "nbformat": 4,
 "nbformat_minor": 5
}
