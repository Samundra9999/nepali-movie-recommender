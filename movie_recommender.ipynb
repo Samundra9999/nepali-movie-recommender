{
 "cells": [
  {
   "cell_type": "code",
   "execution_count": 1,
   "id": "46fc405d-1788-4e71-9494-325c76f3472d",
   "metadata": {},
   "outputs": [],
   "source": [
    "\n",
    "# Importing Necessary Librabries\n",
    "import pandas as pd\n",
    "import numpy as np"
   ]
  },
  {
   "cell_type": "code",
   "execution_count": 2,
   "id": "846ead7d-3e71-41b3-92e7-904c39d2e451",
   "metadata": {},
   "outputs": [],
   "source": [
    "df = pd.read_csv('Nepali_movie.csv') # Reading csv file"
   ]
  },
  {
   "cell_type": "code",
   "execution_count": 3,
   "id": "bd189bd7-0f4f-426a-81b7-ba9e5869a4d6",
   "metadata": {},
   "outputs": [
    {
     "data": {
      "text/html": [
       "<div>\n",
       "<style scoped>\n",
       "    .dataframe tbody tr th:only-of-type {\n",
       "        vertical-align: middle;\n",
       "    }\n",
       "\n",
       "    .dataframe tbody tr th {\n",
       "        vertical-align: top;\n",
       "    }\n",
       "\n",
       "    .dataframe thead th {\n",
       "        text-align: right;\n",
       "    }\n",
       "</style>\n",
       "<table border=\"1\" class=\"dataframe\">\n",
       "  <thead>\n",
       "    <tr style=\"text-align: right;\">\n",
       "      <th></th>\n",
       "      <th>Unnamed: 0</th>\n",
       "      <th>Title</th>\n",
       "      <th>Director</th>\n",
       "      <th>Writer</th>\n",
       "      <th>Stars</th>\n",
       "      <th>Genre</th>\n",
       "      <th>Release_Date</th>\n",
       "      <th>Overview</th>\n",
       "      <th>Image</th>\n",
       "    </tr>\n",
       "  </thead>\n",
       "  <tbody>\n",
       "    <tr>\n",
       "      <th>0</th>\n",
       "      <td>0</td>\n",
       "      <td>The Red Suitcase</td>\n",
       "      <td>Fidel Devkota</td>\n",
       "      <td>Fidel Devkota</td>\n",
       "      <td>Saugat Malla, Prabin Khatiwada, Shristi Shrestha</td>\n",
       "      <td>Drama, Mystery</td>\n",
       "      <td>2023.0</td>\n",
       "      <td>A pick-up truck driver leaves Kathmandu airpor...</td>\n",
       "      <td>https://m.media-amazon.com/images/M/MV5BYmY0Zj...</td>\n",
       "    </tr>\n",
       "    <tr>\n",
       "      <th>1</th>\n",
       "      <td>1</td>\n",
       "      <td>Pitaambar</td>\n",
       "      <td>Krisha Chaulagain</td>\n",
       "      <td>Pradeep Bhardwaj, Abhimanyu Nirabi</td>\n",
       "      <td>Dayahang Rai, Pradeep Khadka, Supushpa Bhatta</td>\n",
       "      <td>Action</td>\n",
       "      <td>2025.0</td>\n",
       "      <td>Pitambar is a story of a fearless and tactful ...</td>\n",
       "      <td>https://m.media-amazon.com/images/M/MV5BNmYxMD...</td>\n",
       "    </tr>\n",
       "    <tr>\n",
       "      <th>2</th>\n",
       "      <td>2</td>\n",
       "      <td>Boksi Ko Ghar</td>\n",
       "      <td>Sulakshyan Bharati</td>\n",
       "      <td>Sulakshyan Bharati</td>\n",
       "      <td>Keki Adhikari, Shupala Sapkota, Swechchha Raut</td>\n",
       "      <td>Thriller</td>\n",
       "      <td>2024.0</td>\n",
       "      <td>The plot follows a journalist investigating a ...</td>\n",
       "      <td>https://m.media-amazon.com/images/M/MV5BZWY4ZD...</td>\n",
       "    </tr>\n",
       "    <tr>\n",
       "      <th>3</th>\n",
       "      <td>3</td>\n",
       "      <td>Sherpa</td>\n",
       "      <td>Jennifer Peedom</td>\n",
       "      <td>Jennifer Peedom</td>\n",
       "      <td>Russell Brice, Tim Medvetz, Pasang Tenzing Sherpa</td>\n",
       "      <td>Documentary</td>\n",
       "      <td>2015.0</td>\n",
       "      <td>In 2014, director Jennifer Peedom was working ...</td>\n",
       "      <td>https://m.media-amazon.com/images/M/MV5BMjAwOD...</td>\n",
       "    </tr>\n",
       "    <tr>\n",
       "      <th>4</th>\n",
       "      <td>4</td>\n",
       "      <td>Purna Bahadur Ko Sarangi</td>\n",
       "      <td>Saroj Poudel</td>\n",
       "      <td>Mahesh Dawadi, Saroj Poudel</td>\n",
       "      <td>Bijay Baral, Prakash Saput, Swayam KC</td>\n",
       "      <td>Drama</td>\n",
       "      <td>2024.0</td>\n",
       "      <td>A struggling single father battles poverty, us...</td>\n",
       "      <td>https://m.media-amazon.com/images/M/MV5BNzY4ND...</td>\n",
       "    </tr>\n",
       "  </tbody>\n",
       "</table>\n",
       "</div>"
      ],
      "text/plain": [
       "   Unnamed: 0                     Title            Director  \\\n",
       "0           0          The Red Suitcase       Fidel Devkota   \n",
       "1           1                 Pitaambar   Krisha Chaulagain   \n",
       "2           2             Boksi Ko Ghar  Sulakshyan Bharati   \n",
       "3           3                    Sherpa     Jennifer Peedom   \n",
       "4           4  Purna Bahadur Ko Sarangi        Saroj Poudel   \n",
       "\n",
       "                               Writer  \\\n",
       "0                       Fidel Devkota   \n",
       "1  Pradeep Bhardwaj, Abhimanyu Nirabi   \n",
       "2                  Sulakshyan Bharati   \n",
       "3                     Jennifer Peedom   \n",
       "4         Mahesh Dawadi, Saroj Poudel   \n",
       "\n",
       "                                               Stars           Genre  \\\n",
       "0   Saugat Malla, Prabin Khatiwada, Shristi Shrestha  Drama, Mystery   \n",
       "1      Dayahang Rai, Pradeep Khadka, Supushpa Bhatta          Action   \n",
       "2     Keki Adhikari, Shupala Sapkota, Swechchha Raut        Thriller   \n",
       "3  Russell Brice, Tim Medvetz, Pasang Tenzing Sherpa     Documentary   \n",
       "4              Bijay Baral, Prakash Saput, Swayam KC           Drama   \n",
       "\n",
       "   Release_Date                                           Overview  \\\n",
       "0        2023.0  A pick-up truck driver leaves Kathmandu airpor...   \n",
       "1        2025.0  Pitambar is a story of a fearless and tactful ...   \n",
       "2        2024.0  The plot follows a journalist investigating a ...   \n",
       "3        2015.0  In 2014, director Jennifer Peedom was working ...   \n",
       "4        2024.0  A struggling single father battles poverty, us...   \n",
       "\n",
       "                                               Image  \n",
       "0  https://m.media-amazon.com/images/M/MV5BYmY0Zj...  \n",
       "1  https://m.media-amazon.com/images/M/MV5BNmYxMD...  \n",
       "2  https://m.media-amazon.com/images/M/MV5BZWY4ZD...  \n",
       "3  https://m.media-amazon.com/images/M/MV5BMjAwOD...  \n",
       "4  https://m.media-amazon.com/images/M/MV5BNzY4ND...  "
      ]
     },
     "execution_count": 3,
     "metadata": {},
     "output_type": "execute_result"
    }
   ],
   "source": [
    "df.head() # Display 1st 5 rows"
   ]
  },
  {
   "cell_type": "code",
   "execution_count": 4,
   "id": "e0a42123-608f-474d-91d0-446ae3f2253d",
   "metadata": {},
   "outputs": [
    {
     "data": {
      "text/plain": [
       "Unnamed: 0       0\n",
       "Title            0\n",
       "Director         0\n",
       "Writer           0\n",
       "Stars            0\n",
       "Genre            3\n",
       "Release_Date     8\n",
       "Overview        16\n",
       "Image            0\n",
       "dtype: int64"
      ]
     },
     "execution_count": 4,
     "metadata": {},
     "output_type": "execute_result"
    }
   ],
   "source": [
    "df.isnull().sum() # Checking For Missing values"
   ]
  },
  {
   "cell_type": "code",
   "execution_count": 5,
   "id": "c99d054d-eb2a-42cf-b6bf-1112ad46ab4c",
   "metadata": {},
   "outputs": [
    {
     "data": {
      "text/plain": [
       "(90, 9)"
      ]
     },
     "execution_count": 5,
     "metadata": {},
     "output_type": "execute_result"
    }
   ],
   "source": [
    "df.shape # Checking shape of dataset"
   ]
  },
  {
   "cell_type": "code",
   "execution_count": 6,
   "id": "830f9b6e-d55e-4068-a2c3-b81e8d43ec1d",
   "metadata": {},
   "outputs": [
    {
     "name": "stdout",
     "output_type": "stream",
     "text": [
      "<class 'pandas.core.frame.DataFrame'>\n",
      "RangeIndex: 90 entries, 0 to 89\n",
      "Data columns (total 9 columns):\n",
      " #   Column        Non-Null Count  Dtype  \n",
      "---  ------        --------------  -----  \n",
      " 0   Unnamed: 0    90 non-null     int64  \n",
      " 1   Title         90 non-null     object \n",
      " 2   Director      90 non-null     object \n",
      " 3   Writer        90 non-null     object \n",
      " 4   Stars         90 non-null     object \n",
      " 5   Genre         87 non-null     object \n",
      " 6   Release_Date  82 non-null     float64\n",
      " 7   Overview      74 non-null     object \n",
      " 8   Image         90 non-null     object \n",
      "dtypes: float64(1), int64(1), object(7)\n",
      "memory usage: 6.5+ KB\n"
     ]
    }
   ],
   "source": [
    "df.info() # Display Columns Datatype, Non Null counts and memory usage"
   ]
  },
  {
   "cell_type": "code",
   "execution_count": 7,
   "id": "d939fc84-7769-4eeb-a59b-0f5e658dbb78",
   "metadata": {},
   "outputs": [],
   "source": [
    "def space_remove(column):   # Remove the space of the data\n",
    "    return column.replace(' ','')"
   ]
  },
  {
   "cell_type": "code",
   "execution_count": 8,
   "id": "856646fb-14b4-40c4-a64c-8f3f45f650ba",
   "metadata": {},
   "outputs": [],
   "source": [
    "# Applying space_remove function in Stars, Director and Writer columns\n",
    "df['Stars'] = df['Stars'].apply(space_remove)\n",
    "df['Director'] = df['Director'].apply(space_remove)\n",
    "df['Writer'] = df['Writer'].apply(space_remove)"
   ]
  },
  {
   "cell_type": "code",
   "execution_count": 9,
   "id": "1b5cb3b7-5a05-4a9b-9f80-6cf621e4269a",
   "metadata": {},
   "outputs": [],
   "source": [
    "df.rename(columns={'Unnamed: 0':'Movie_id'},inplace = True)   # Rename the 'Unnamed: 0' to 'Movie_id'"
   ]
  },
  {
   "cell_type": "code",
   "execution_count": 10,
   "id": "eb89925e-a50f-429d-88c5-161890a6c030",
   "metadata": {},
   "outputs": [
    {
     "data": {
      "text/html": [
       "<div>\n",
       "<style scoped>\n",
       "    .dataframe tbody tr th:only-of-type {\n",
       "        vertical-align: middle;\n",
       "    }\n",
       "\n",
       "    .dataframe tbody tr th {\n",
       "        vertical-align: top;\n",
       "    }\n",
       "\n",
       "    .dataframe thead th {\n",
       "        text-align: right;\n",
       "    }\n",
       "</style>\n",
       "<table border=\"1\" class=\"dataframe\">\n",
       "  <thead>\n",
       "    <tr style=\"text-align: right;\">\n",
       "      <th></th>\n",
       "      <th>Movie_id</th>\n",
       "      <th>Title</th>\n",
       "      <th>Director</th>\n",
       "      <th>Writer</th>\n",
       "      <th>Stars</th>\n",
       "      <th>Genre</th>\n",
       "      <th>Release_Date</th>\n",
       "      <th>Overview</th>\n",
       "      <th>Image</th>\n",
       "    </tr>\n",
       "  </thead>\n",
       "  <tbody>\n",
       "    <tr>\n",
       "      <th>0</th>\n",
       "      <td>0</td>\n",
       "      <td>The Red Suitcase</td>\n",
       "      <td>FidelDevkota</td>\n",
       "      <td>FidelDevkota</td>\n",
       "      <td>SaugatMalla,PrabinKhatiwada,ShristiShrestha</td>\n",
       "      <td>Drama, Mystery</td>\n",
       "      <td>2023.0</td>\n",
       "      <td>A pick-up truck driver leaves Kathmandu airpor...</td>\n",
       "      <td>https://m.media-amazon.com/images/M/MV5BYmY0Zj...</td>\n",
       "    </tr>\n",
       "    <tr>\n",
       "      <th>1</th>\n",
       "      <td>1</td>\n",
       "      <td>Pitaambar</td>\n",
       "      <td>KrishaChaulagain</td>\n",
       "      <td>PradeepBhardwaj,AbhimanyuNirabi</td>\n",
       "      <td>DayahangRai,PradeepKhadka,SupushpaBhatta</td>\n",
       "      <td>Action</td>\n",
       "      <td>2025.0</td>\n",
       "      <td>Pitambar is a story of a fearless and tactful ...</td>\n",
       "      <td>https://m.media-amazon.com/images/M/MV5BNmYxMD...</td>\n",
       "    </tr>\n",
       "    <tr>\n",
       "      <th>2</th>\n",
       "      <td>2</td>\n",
       "      <td>Boksi Ko Ghar</td>\n",
       "      <td>SulakshyanBharati</td>\n",
       "      <td>SulakshyanBharati</td>\n",
       "      <td>KekiAdhikari,ShupalaSapkota,SwechchhaRaut</td>\n",
       "      <td>Thriller</td>\n",
       "      <td>2024.0</td>\n",
       "      <td>The plot follows a journalist investigating a ...</td>\n",
       "      <td>https://m.media-amazon.com/images/M/MV5BZWY4ZD...</td>\n",
       "    </tr>\n",
       "    <tr>\n",
       "      <th>3</th>\n",
       "      <td>3</td>\n",
       "      <td>Sherpa</td>\n",
       "      <td>JenniferPeedom</td>\n",
       "      <td>JenniferPeedom</td>\n",
       "      <td>RussellBrice,TimMedvetz,PasangTenzingSherpa</td>\n",
       "      <td>Documentary</td>\n",
       "      <td>2015.0</td>\n",
       "      <td>In 2014, director Jennifer Peedom was working ...</td>\n",
       "      <td>https://m.media-amazon.com/images/M/MV5BMjAwOD...</td>\n",
       "    </tr>\n",
       "    <tr>\n",
       "      <th>4</th>\n",
       "      <td>4</td>\n",
       "      <td>Purna Bahadur Ko Sarangi</td>\n",
       "      <td>SarojPoudel</td>\n",
       "      <td>MaheshDawadi,SarojPoudel</td>\n",
       "      <td>BijayBaral,PrakashSaput,SwayamKC</td>\n",
       "      <td>Drama</td>\n",
       "      <td>2024.0</td>\n",
       "      <td>A struggling single father battles poverty, us...</td>\n",
       "      <td>https://m.media-amazon.com/images/M/MV5BNzY4ND...</td>\n",
       "    </tr>\n",
       "  </tbody>\n",
       "</table>\n",
       "</div>"
      ],
      "text/plain": [
       "   Movie_id                     Title           Director  \\\n",
       "0         0          The Red Suitcase       FidelDevkota   \n",
       "1         1                 Pitaambar   KrishaChaulagain   \n",
       "2         2             Boksi Ko Ghar  SulakshyanBharati   \n",
       "3         3                    Sherpa     JenniferPeedom   \n",
       "4         4  Purna Bahadur Ko Sarangi        SarojPoudel   \n",
       "\n",
       "                            Writer  \\\n",
       "0                     FidelDevkota   \n",
       "1  PradeepBhardwaj,AbhimanyuNirabi   \n",
       "2                SulakshyanBharati   \n",
       "3                   JenniferPeedom   \n",
       "4         MaheshDawadi,SarojPoudel   \n",
       "\n",
       "                                         Stars           Genre  Release_Date  \\\n",
       "0  SaugatMalla,PrabinKhatiwada,ShristiShrestha  Drama, Mystery        2023.0   \n",
       "1     DayahangRai,PradeepKhadka,SupushpaBhatta          Action        2025.0   \n",
       "2    KekiAdhikari,ShupalaSapkota,SwechchhaRaut        Thriller        2024.0   \n",
       "3  RussellBrice,TimMedvetz,PasangTenzingSherpa     Documentary        2015.0   \n",
       "4             BijayBaral,PrakashSaput,SwayamKC           Drama        2024.0   \n",
       "\n",
       "                                            Overview  \\\n",
       "0  A pick-up truck driver leaves Kathmandu airpor...   \n",
       "1  Pitambar is a story of a fearless and tactful ...   \n",
       "2  The plot follows a journalist investigating a ...   \n",
       "3  In 2014, director Jennifer Peedom was working ...   \n",
       "4  A struggling single father battles poverty, us...   \n",
       "\n",
       "                                               Image  \n",
       "0  https://m.media-amazon.com/images/M/MV5BYmY0Zj...  \n",
       "1  https://m.media-amazon.com/images/M/MV5BNmYxMD...  \n",
       "2  https://m.media-amazon.com/images/M/MV5BZWY4ZD...  \n",
       "3  https://m.media-amazon.com/images/M/MV5BMjAwOD...  \n",
       "4  https://m.media-amazon.com/images/M/MV5BNzY4ND...  "
      ]
     },
     "execution_count": 10,
     "metadata": {},
     "output_type": "execute_result"
    }
   ],
   "source": [
    "df.head()"
   ]
  },
  {
   "cell_type": "code",
   "execution_count": 11,
   "id": "39df3d61-848a-4800-adb0-e6654907db1a",
   "metadata": {},
   "outputs": [
    {
     "name": "stderr",
     "output_type": "stream",
     "text": [
      "C:\\Users\\Samundra\\AppData\\Local\\Temp\\ipykernel_33484\\2677575663.py:1: FutureWarning: Setting an item of incompatible dtype is deprecated and will raise an error in a future version of pandas. Value '' has dtype incompatible with float64, please explicitly cast to a compatible dtype first.\n",
      "  df.fillna('',inplace = True) # Filling the empty value with ''\n"
     ]
    }
   ],
   "source": [
    "df.fillna('',inplace = True) # Filling the empty value with ''"
   ]
  },
  {
   "cell_type": "code",
   "execution_count": 16,
   "id": "8723dca7-8eea-4ef7-93be-3e2ec531bcde",
   "metadata": {},
   "outputs": [],
   "source": [
    "# Addind the Director, Writer, Stars, Genre, Release_Date and Overview columns to make new column 'new_tag'\n",
    "df['new_tag'] = df['Director'].astype(str) + ' '+ df['Writer'].astype(str)+ ' '+ df['Stars'].astype(str)+ ' ' + df['Genre'].astype(str) + ' '+ df['Release_Date'].astype(str) + ' '+ df['Overview'].astype(str)"
   ]
  },
  {
   "cell_type": "code",
   "execution_count": 18,
   "id": "af4c0e27-8e58-4a34-ae31-6596c12ae639",
   "metadata": {},
   "outputs": [
    {
     "data": {
      "text/html": [
       "<div>\n",
       "<style scoped>\n",
       "    .dataframe tbody tr th:only-of-type {\n",
       "        vertical-align: middle;\n",
       "    }\n",
       "\n",
       "    .dataframe tbody tr th {\n",
       "        vertical-align: top;\n",
       "    }\n",
       "\n",
       "    .dataframe thead th {\n",
       "        text-align: right;\n",
       "    }\n",
       "</style>\n",
       "<table border=\"1\" class=\"dataframe\">\n",
       "  <thead>\n",
       "    <tr style=\"text-align: right;\">\n",
       "      <th></th>\n",
       "      <th>Movie_id</th>\n",
       "      <th>Title</th>\n",
       "      <th>Director</th>\n",
       "      <th>Writer</th>\n",
       "      <th>Stars</th>\n",
       "      <th>Genre</th>\n",
       "      <th>Release_Date</th>\n",
       "      <th>Overview</th>\n",
       "      <th>Image</th>\n",
       "      <th>new_tag</th>\n",
       "    </tr>\n",
       "  </thead>\n",
       "  <tbody>\n",
       "    <tr>\n",
       "      <th>0</th>\n",
       "      <td>0</td>\n",
       "      <td>The Red Suitcase</td>\n",
       "      <td>FidelDevkota</td>\n",
       "      <td>FidelDevkota</td>\n",
       "      <td>SaugatMalla,PrabinKhatiwada,ShristiShrestha</td>\n",
       "      <td>Drama, Mystery</td>\n",
       "      <td>2023.0</td>\n",
       "      <td>A pick-up truck driver leaves Kathmandu airpor...</td>\n",
       "      <td>https://m.media-amazon.com/images/M/MV5BYmY0Zj...</td>\n",
       "      <td>FidelDevkota FidelDevkota SaugatMalla,PrabinKh...</td>\n",
       "    </tr>\n",
       "    <tr>\n",
       "      <th>1</th>\n",
       "      <td>1</td>\n",
       "      <td>Pitaambar</td>\n",
       "      <td>KrishaChaulagain</td>\n",
       "      <td>PradeepBhardwaj,AbhimanyuNirabi</td>\n",
       "      <td>DayahangRai,PradeepKhadka,SupushpaBhatta</td>\n",
       "      <td>Action</td>\n",
       "      <td>2025.0</td>\n",
       "      <td>Pitambar is a story of a fearless and tactful ...</td>\n",
       "      <td>https://m.media-amazon.com/images/M/MV5BNmYxMD...</td>\n",
       "      <td>KrishaChaulagain PradeepBhardwaj,AbhimanyuNira...</td>\n",
       "    </tr>\n",
       "    <tr>\n",
       "      <th>2</th>\n",
       "      <td>2</td>\n",
       "      <td>Boksi Ko Ghar</td>\n",
       "      <td>SulakshyanBharati</td>\n",
       "      <td>SulakshyanBharati</td>\n",
       "      <td>KekiAdhikari,ShupalaSapkota,SwechchhaRaut</td>\n",
       "      <td>Thriller</td>\n",
       "      <td>2024.0</td>\n",
       "      <td>The plot follows a journalist investigating a ...</td>\n",
       "      <td>https://m.media-amazon.com/images/M/MV5BZWY4ZD...</td>\n",
       "      <td>SulakshyanBharati SulakshyanBharati KekiAdhika...</td>\n",
       "    </tr>\n",
       "    <tr>\n",
       "      <th>3</th>\n",
       "      <td>3</td>\n",
       "      <td>Sherpa</td>\n",
       "      <td>JenniferPeedom</td>\n",
       "      <td>JenniferPeedom</td>\n",
       "      <td>RussellBrice,TimMedvetz,PasangTenzingSherpa</td>\n",
       "      <td>Documentary</td>\n",
       "      <td>2015.0</td>\n",
       "      <td>In 2014, director Jennifer Peedom was working ...</td>\n",
       "      <td>https://m.media-amazon.com/images/M/MV5BMjAwOD...</td>\n",
       "      <td>JenniferPeedom JenniferPeedom RussellBrice,Tim...</td>\n",
       "    </tr>\n",
       "    <tr>\n",
       "      <th>4</th>\n",
       "      <td>4</td>\n",
       "      <td>Purna Bahadur Ko Sarangi</td>\n",
       "      <td>SarojPoudel</td>\n",
       "      <td>MaheshDawadi,SarojPoudel</td>\n",
       "      <td>BijayBaral,PrakashSaput,SwayamKC</td>\n",
       "      <td>Drama</td>\n",
       "      <td>2024.0</td>\n",
       "      <td>A struggling single father battles poverty, us...</td>\n",
       "      <td>https://m.media-amazon.com/images/M/MV5BNzY4ND...</td>\n",
       "      <td>SarojPoudel MaheshDawadi,SarojPoudel BijayBara...</td>\n",
       "    </tr>\n",
       "  </tbody>\n",
       "</table>\n",
       "</div>"
      ],
      "text/plain": [
       "   Movie_id                     Title           Director  \\\n",
       "0         0          The Red Suitcase       FidelDevkota   \n",
       "1         1                 Pitaambar   KrishaChaulagain   \n",
       "2         2             Boksi Ko Ghar  SulakshyanBharati   \n",
       "3         3                    Sherpa     JenniferPeedom   \n",
       "4         4  Purna Bahadur Ko Sarangi        SarojPoudel   \n",
       "\n",
       "                            Writer  \\\n",
       "0                     FidelDevkota   \n",
       "1  PradeepBhardwaj,AbhimanyuNirabi   \n",
       "2                SulakshyanBharati   \n",
       "3                   JenniferPeedom   \n",
       "4         MaheshDawadi,SarojPoudel   \n",
       "\n",
       "                                         Stars           Genre Release_Date  \\\n",
       "0  SaugatMalla,PrabinKhatiwada,ShristiShrestha  Drama, Mystery       2023.0   \n",
       "1     DayahangRai,PradeepKhadka,SupushpaBhatta          Action       2025.0   \n",
       "2    KekiAdhikari,ShupalaSapkota,SwechchhaRaut        Thriller       2024.0   \n",
       "3  RussellBrice,TimMedvetz,PasangTenzingSherpa     Documentary       2015.0   \n",
       "4             BijayBaral,PrakashSaput,SwayamKC           Drama       2024.0   \n",
       "\n",
       "                                            Overview  \\\n",
       "0  A pick-up truck driver leaves Kathmandu airpor...   \n",
       "1  Pitambar is a story of a fearless and tactful ...   \n",
       "2  The plot follows a journalist investigating a ...   \n",
       "3  In 2014, director Jennifer Peedom was working ...   \n",
       "4  A struggling single father battles poverty, us...   \n",
       "\n",
       "                                               Image  \\\n",
       "0  https://m.media-amazon.com/images/M/MV5BYmY0Zj...   \n",
       "1  https://m.media-amazon.com/images/M/MV5BNmYxMD...   \n",
       "2  https://m.media-amazon.com/images/M/MV5BZWY4ZD...   \n",
       "3  https://m.media-amazon.com/images/M/MV5BMjAwOD...   \n",
       "4  https://m.media-amazon.com/images/M/MV5BNzY4ND...   \n",
       "\n",
       "                                             new_tag  \n",
       "0  FidelDevkota FidelDevkota SaugatMalla,PrabinKh...  \n",
       "1  KrishaChaulagain PradeepBhardwaj,AbhimanyuNira...  \n",
       "2  SulakshyanBharati SulakshyanBharati KekiAdhika...  \n",
       "3  JenniferPeedom JenniferPeedom RussellBrice,Tim...  \n",
       "4  SarojPoudel MaheshDawadi,SarojPoudel BijayBara...  "
      ]
     },
     "execution_count": 18,
     "metadata": {},
     "output_type": "execute_result"
    }
   ],
   "source": [
    "df.head()"
   ]
  },
  {
   "cell_type": "code",
   "execution_count": 20,
   "id": "6225c466-3eba-4729-a293-1764beb910d2",
   "metadata": {},
   "outputs": [],
   "source": [
    "new_df = df[['Movie_id','Image','Title','new_tag']]  # Making new dataframe with Movie_id, Image, Title and New_tag columns"
   ]
  },
  {
   "cell_type": "code",
   "execution_count": 22,
   "id": "428b5a74-8cea-4090-bd52-39ebc5987a7d",
   "metadata": {},
   "outputs": [
    {
     "data": {
      "text/plain": [
       "Movie_id    0\n",
       "Image       0\n",
       "Title       0\n",
       "new_tag     0\n",
       "dtype: int64"
      ]
     },
     "execution_count": 22,
     "metadata": {},
     "output_type": "execute_result"
    }
   ],
   "source": [
    "new_df.isnull().sum() # Checking for null values"
   ]
  },
  {
   "cell_type": "code",
   "execution_count": 24,
   "id": "3adb341a-f19c-46c9-ac3b-4a008e783153",
   "metadata": {},
   "outputs": [
    {
     "data": {
      "text/html": [
       "<div>\n",
       "<style scoped>\n",
       "    .dataframe tbody tr th:only-of-type {\n",
       "        vertical-align: middle;\n",
       "    }\n",
       "\n",
       "    .dataframe tbody tr th {\n",
       "        vertical-align: top;\n",
       "    }\n",
       "\n",
       "    .dataframe thead th {\n",
       "        text-align: right;\n",
       "    }\n",
       "</style>\n",
       "<table border=\"1\" class=\"dataframe\">\n",
       "  <thead>\n",
       "    <tr style=\"text-align: right;\">\n",
       "      <th></th>\n",
       "      <th>Movie_id</th>\n",
       "      <th>Image</th>\n",
       "      <th>Title</th>\n",
       "      <th>new_tag</th>\n",
       "    </tr>\n",
       "  </thead>\n",
       "  <tbody>\n",
       "    <tr>\n",
       "      <th>22</th>\n",
       "      <td>22</td>\n",
       "      <td>https://m.media-amazon.com/images/M/MV5BNzFmMT...</td>\n",
       "      <td>Facebook</td>\n",
       "      <td>SurajSubba SurajSubba SbhanAmini,RajeshHamal,W...</td>\n",
       "    </tr>\n",
       "    <tr>\n",
       "      <th>66</th>\n",
       "      <td>66</td>\n",
       "      <td>https://m.media-amazon.com/images/M/MV5BNTU3YT...</td>\n",
       "      <td>Jatra</td>\n",
       "      <td>PradeepBhattarai PradeepBhattarai BipinKarki,B...</td>\n",
       "    </tr>\n",
       "    <tr>\n",
       "      <th>85</th>\n",
       "      <td>85</td>\n",
       "      <td>https://m.media-amazon.com/images/M/MV5BYzU3Mm...</td>\n",
       "      <td>Sano Sansar</td>\n",
       "      <td>SiddharthaPudasaini SarismaKhatriPudasaini,Sid...</td>\n",
       "    </tr>\n",
       "    <tr>\n",
       "      <th>63</th>\n",
       "      <td>63</td>\n",
       "      <td>https://m.media-amazon.com/images/M/MV5BNjAxZD...</td>\n",
       "      <td>Manjari</td>\n",
       "      <td>GaneshDevPanday GaneshDevPanday AbahaAryal,Sar...</td>\n",
       "    </tr>\n",
       "    <tr>\n",
       "      <th>60</th>\n",
       "      <td>60</td>\n",
       "      <td>https://m.media-amazon.com/images/M/MV5BNTczYT...</td>\n",
       "      <td>A Mero Hajur 3</td>\n",
       "      <td>JharanaThapa BaburamDahal,ChetanGurung,PratikP...</td>\n",
       "    </tr>\n",
       "  </tbody>\n",
       "</table>\n",
       "</div>"
      ],
      "text/plain": [
       "    Movie_id                                              Image  \\\n",
       "22        22  https://m.media-amazon.com/images/M/MV5BNzFmMT...   \n",
       "66        66  https://m.media-amazon.com/images/M/MV5BNTU3YT...   \n",
       "85        85  https://m.media-amazon.com/images/M/MV5BYzU3Mm...   \n",
       "63        63  https://m.media-amazon.com/images/M/MV5BNjAxZD...   \n",
       "60        60  https://m.media-amazon.com/images/M/MV5BNTczYT...   \n",
       "\n",
       "             Title                                            new_tag  \n",
       "22        Facebook  SurajSubba SurajSubba SbhanAmini,RajeshHamal,W...  \n",
       "66           Jatra  PradeepBhattarai PradeepBhattarai BipinKarki,B...  \n",
       "85     Sano Sansar  SiddharthaPudasaini SarismaKhatriPudasaini,Sid...  \n",
       "63         Manjari  GaneshDevPanday GaneshDevPanday AbahaAryal,Sar...  \n",
       "60  A Mero Hajur 3  JharanaThapa BaburamDahal,ChetanGurung,PratikP...  "
      ]
     },
     "execution_count": 24,
     "metadata": {},
     "output_type": "execute_result"
    }
   ],
   "source": [
    "new_df.sample(5)"
   ]
  },
  {
   "cell_type": "code",
   "execution_count": 26,
   "id": "0b0bdf69-3a99-438e-8489-bd43feb14c8b",
   "metadata": {},
   "outputs": [],
   "source": [
    "def lower_letter(column): # Conerts to Lowercase\n",
    "    return column.lower()"
   ]
  },
  {
   "cell_type": "code",
   "execution_count": 28,
   "id": "127faf37-fdad-4779-bdd3-3d08ddea7e88",
   "metadata": {},
   "outputs": [
    {
     "name": "stderr",
     "output_type": "stream",
     "text": [
      "C:\\Users\\Samundra\\AppData\\Local\\Temp\\ipykernel_33484\\2802642794.py:1: SettingWithCopyWarning: \n",
      "A value is trying to be set on a copy of a slice from a DataFrame.\n",
      "Try using .loc[row_indexer,col_indexer] = value instead\n",
      "\n",
      "See the caveats in the documentation: https://pandas.pydata.org/pandas-docs/stable/user_guide/indexing.html#returning-a-view-versus-a-copy\n",
      "  new_df['new_tag'] = new_df['new_tag'].apply(lower_letter) # Appling the lower_letter function in new_tag column\n"
     ]
    }
   ],
   "source": [
    "new_df['new_tag'] = new_df['new_tag'].apply(lower_letter) # Appling the lower_letter function in new_tag column"
   ]
  },
  {
   "cell_type": "code",
   "execution_count": 30,
   "id": "0f1d305f-16f6-49d6-9140-d306c2814bb0",
   "metadata": {},
   "outputs": [
    {
     "data": {
      "text/html": [
       "<div>\n",
       "<style scoped>\n",
       "    .dataframe tbody tr th:only-of-type {\n",
       "        vertical-align: middle;\n",
       "    }\n",
       "\n",
       "    .dataframe tbody tr th {\n",
       "        vertical-align: top;\n",
       "    }\n",
       "\n",
       "    .dataframe thead th {\n",
       "        text-align: right;\n",
       "    }\n",
       "</style>\n",
       "<table border=\"1\" class=\"dataframe\">\n",
       "  <thead>\n",
       "    <tr style=\"text-align: right;\">\n",
       "      <th></th>\n",
       "      <th>Movie_id</th>\n",
       "      <th>Image</th>\n",
       "      <th>Title</th>\n",
       "      <th>new_tag</th>\n",
       "    </tr>\n",
       "  </thead>\n",
       "  <tbody>\n",
       "    <tr>\n",
       "      <th>0</th>\n",
       "      <td>0</td>\n",
       "      <td>https://m.media-amazon.com/images/M/MV5BYmY0Zj...</td>\n",
       "      <td>The Red Suitcase</td>\n",
       "      <td>fideldevkota fideldevkota saugatmalla,prabinkh...</td>\n",
       "    </tr>\n",
       "    <tr>\n",
       "      <th>1</th>\n",
       "      <td>1</td>\n",
       "      <td>https://m.media-amazon.com/images/M/MV5BNmYxMD...</td>\n",
       "      <td>Pitaambar</td>\n",
       "      <td>krishachaulagain pradeepbhardwaj,abhimanyunira...</td>\n",
       "    </tr>\n",
       "    <tr>\n",
       "      <th>2</th>\n",
       "      <td>2</td>\n",
       "      <td>https://m.media-amazon.com/images/M/MV5BZWY4ZD...</td>\n",
       "      <td>Boksi Ko Ghar</td>\n",
       "      <td>sulakshyanbharati sulakshyanbharati kekiadhika...</td>\n",
       "    </tr>\n",
       "    <tr>\n",
       "      <th>3</th>\n",
       "      <td>3</td>\n",
       "      <td>https://m.media-amazon.com/images/M/MV5BMjAwOD...</td>\n",
       "      <td>Sherpa</td>\n",
       "      <td>jenniferpeedom jenniferpeedom russellbrice,tim...</td>\n",
       "    </tr>\n",
       "    <tr>\n",
       "      <th>4</th>\n",
       "      <td>4</td>\n",
       "      <td>https://m.media-amazon.com/images/M/MV5BNzY4ND...</td>\n",
       "      <td>Purna Bahadur Ko Sarangi</td>\n",
       "      <td>sarojpoudel maheshdawadi,sarojpoudel bijaybara...</td>\n",
       "    </tr>\n",
       "  </tbody>\n",
       "</table>\n",
       "</div>"
      ],
      "text/plain": [
       "   Movie_id                                              Image  \\\n",
       "0         0  https://m.media-amazon.com/images/M/MV5BYmY0Zj...   \n",
       "1         1  https://m.media-amazon.com/images/M/MV5BNmYxMD...   \n",
       "2         2  https://m.media-amazon.com/images/M/MV5BZWY4ZD...   \n",
       "3         3  https://m.media-amazon.com/images/M/MV5BMjAwOD...   \n",
       "4         4  https://m.media-amazon.com/images/M/MV5BNzY4ND...   \n",
       "\n",
       "                      Title                                            new_tag  \n",
       "0          The Red Suitcase  fideldevkota fideldevkota saugatmalla,prabinkh...  \n",
       "1                 Pitaambar  krishachaulagain pradeepbhardwaj,abhimanyunira...  \n",
       "2             Boksi Ko Ghar  sulakshyanbharati sulakshyanbharati kekiadhika...  \n",
       "3                    Sherpa  jenniferpeedom jenniferpeedom russellbrice,tim...  \n",
       "4  Purna Bahadur Ko Sarangi  sarojpoudel maheshdawadi,sarojpoudel bijaybara...  "
      ]
     },
     "execution_count": 30,
     "metadata": {},
     "output_type": "execute_result"
    }
   ],
   "source": [
    "new_df.head()"
   ]
  },
  {
   "cell_type": "code",
   "execution_count": 34,
   "id": "e9560c30-cff1-40a3-a61a-b101c1224802",
   "metadata": {},
   "outputs": [],
   "source": [
    "import nltk   # Importing the Natural Language Toolkit (nltk) library for text processing\n",
    "from nltk.stem.porter import PorterStemmer   # Importing the PorterStemmer from nltk, which is used to reduce words to their root form (stemming)"
   ]
  },
  {
   "cell_type": "code",
   "execution_count": 36,
   "id": "0c64c288-3f82-4023-8f76-a5a1aa73975c",
   "metadata": {},
   "outputs": [],
   "source": [
    "ps = PorterStemmer()"
   ]
  },
  {
   "cell_type": "code",
   "execution_count": 38,
   "id": "a0e074b0-373f-4a9b-8fd6-68898b7d014f",
   "metadata": {},
   "outputs": [],
   "source": [
    "def stem(text):  # Defining a function 'stem' that applies stemming to each word in the input text\n",
    "    list1 = []\n",
    "    for i in text.split():\n",
    "        list1.append(ps.stem(i))\n",
    "    return ' '.join(list1)"
   ]
  },
  {
   "cell_type": "code",
   "execution_count": 40,
   "id": "94b6f345-b4b1-4892-b190-181c2aadb403",
   "metadata": {},
   "outputs": [
    {
     "name": "stderr",
     "output_type": "stream",
     "text": [
      "C:\\Users\\Samundra\\AppData\\Local\\Temp\\ipykernel_33484\\3996297210.py:1: SettingWithCopyWarning: \n",
      "A value is trying to be set on a copy of a slice from a DataFrame.\n",
      "Try using .loc[row_indexer,col_indexer] = value instead\n",
      "\n",
      "See the caveats in the documentation: https://pandas.pydata.org/pandas-docs/stable/user_guide/indexing.html#returning-a-view-versus-a-copy\n",
      "  new_df['new_tag'] = new_df['new_tag'].apply(stem)  # Applying stem function to new_tag\n"
     ]
    }
   ],
   "source": [
    "new_df['new_tag'] = new_df['new_tag'].apply(stem)  # Applying stem function to new_tag"
   ]
  },
  {
   "cell_type": "code",
   "execution_count": 42,
   "id": "91a6b24c-f939-48e2-990c-ca58f4f17d1f",
   "metadata": {},
   "outputs": [],
   "source": [
    "from sklearn.feature_extraction.text import CountVectorizer   # Importing CountVectorizer from scikit-learn\n",
    "cv = CountVectorizer(max_features=1000,stop_words='english') # Initializing CountVectorizer"
   ]
  },
  {
   "cell_type": "code",
   "execution_count": 44,
   "id": "31410796-07e8-48d9-a2f7-aff668ff1d3d",
   "metadata": {},
   "outputs": [],
   "source": [
    "vectors = cv.fit_transform(new_df['new_tag']).toarray() # Applying CountVectorizer to the 'new_tag' column of the DataFrame"
   ]
  },
  {
   "cell_type": "code",
   "execution_count": 46,
   "id": "e61f49b4-b425-436f-aa31-f40c2abb4ea0",
   "metadata": {},
   "outputs": [
    {
     "data": {
      "text/plain": [
       "(90, 1000)"
      ]
     },
     "execution_count": 46,
     "metadata": {},
     "output_type": "execute_result"
    }
   ],
   "source": [
    "vectors.shape # Checking shape of vectors"
   ]
  },
  {
   "cell_type": "code",
   "execution_count": 48,
   "id": "fe3e2dd0-b36e-46c6-9d35-b2a3531a4fbe",
   "metadata": {},
   "outputs": [],
   "source": [
    "# Importing cosine_similarity from scikit-learn\n",
    "# This function calculates the cosine similarity between vectors\n",
    "from sklearn.metrics.pairwise import cosine_similarity "
   ]
  },
  {
   "cell_type": "code",
   "execution_count": 50,
   "id": "9c9ec97a-8309-4f14-812a-26b5fed54ed6",
   "metadata": {},
   "outputs": [],
   "source": [
    "similarity = cosine_similarity(vectors)  # Calculating the cosine similarity between all movie vectors"
   ]
  },
  {
   "cell_type": "code",
   "execution_count": 52,
   "id": "1537a223-7199-4640-b11c-06a16c2d77c9",
   "metadata": {},
   "outputs": [
    {
     "data": {
      "text/plain": [
       "(90, 90)"
      ]
     },
     "execution_count": 52,
     "metadata": {},
     "output_type": "execute_result"
    }
   ],
   "source": [
    "similarity.shape"
   ]
  },
  {
   "cell_type": "code",
   "execution_count": 54,
   "id": "fd35c362-eaf6-4bc0-9199-666ae8422c67",
   "metadata": {},
   "outputs": [],
   "source": [
    "def recommend(movie):   # Defining a function to recommend similar movies based on a given movie title\n",
    "    movie_index = new_df[new_df['Title'] == movie].index[0]\n",
    "    distance = similarity[movie_index]\n",
    "\n",
    "     # Enumerating the distances and sorting them in descending order of similarity\n",
    "    # Skipping the first one since it's the movie itself (most similar to itself)\n",
    "    movie_list = sorted(list(enumerate(distance)), reverse = True, key = lambda x:x[1])[1:4]\n",
    "    for i in movie_list:\n",
    "        print(new_df.iloc[i[0]].Title)\n",
    "        print(new_df.iloc[i[0]].Image)"
   ]
  },
  {
   "cell_type": "code",
   "execution_count": 56,
   "id": "b9d4595b-55da-43c0-a242-84789e4abf7c",
   "metadata": {},
   "outputs": [
    {
     "name": "stdout",
     "output_type": "stream",
     "text": [
      "Manjari\n",
      "https://m.media-amazon.com/images/M/MV5BNjAxZDg3NWEtY2FkMS00NTkxLWEyNzItNDE0MWMyODdlNjk1XkEyXkFqcGc@._V1_QL75_UY281_CR11,0,190,281_.jpg\n",
      "Kabaddi Kabaddi Kabaddi\n",
      "https://m.media-amazon.com/images/M/MV5BYTBlODk3ODEtYWI0Mi00MzJiLTg3MDUtNWFiN2UzMzI5ZjRjXkEyXkFqcGc@._V1_QL75_UY281_CR3,0,190,281_.jpg\n",
      "Julebi\n",
      "https://m.media-amazon.com/images/M/MV5BMjFiNWFmMGEtN2FmZC00MTdlLWExMDYtOGNhZTc3ZWIyMDIzXkEyXkFqcGc@._V1_QL75_UY281_CR46,0,190,281_.jpg\n"
     ]
    }
   ],
   "source": [
    "recommend('Hostel')"
   ]
  },
  {
   "cell_type": "code",
   "execution_count": 58,
   "id": "09da9380-a7a5-4c9a-9221-32272a5ea7c8",
   "metadata": {},
   "outputs": [],
   "source": [
    "import pickle   # Importing the pickle module to save Python objects to a file"
   ]
  },
  {
   "cell_type": "code",
   "execution_count": 60,
   "id": "086b9422-d11b-45e3-9159-68828ba6e739",
   "metadata": {},
   "outputs": [],
   "source": [
    "pickle.dump(new_df,open('movie_list.pkl','wb'))     # Saving the 'new_df' DataFrame to a file named 'movie_list.pkl' in binary write mode"
   ]
  },
  {
   "cell_type": "code",
   "execution_count": 62,
   "id": "6e6253c5-0e8c-46d7-9e9b-47f062aad98a",
   "metadata": {},
   "outputs": [],
   "source": [
    "pickle.dump(similarity,open('similarityy.pkl','wb'))    # Saving the similarity matrix to a file named 'similarityy.pkl' in binary write mode"
   ]
  },
  {
   "cell_type": "code",
   "execution_count": null,
   "id": "acca7edd-78de-47fa-ba40-52ea41a9c601",
   "metadata": {},
   "outputs": [],
   "source": []
  }
 ],
 "metadata": {
  "kernelspec": {
   "display_name": "Python [conda env:base] *",
   "language": "python",
   "name": "conda-base-py"
  },
  "language_info": {
   "codemirror_mode": {
    "name": "ipython",
    "version": 3
   },
   "file_extension": ".py",
   "mimetype": "text/x-python",
   "name": "python",
   "nbconvert_exporter": "python",
   "pygments_lexer": "ipython3",
   "version": "3.12.7"
  }
 },
 "nbformat": 4,
 "nbformat_minor": 5
}
